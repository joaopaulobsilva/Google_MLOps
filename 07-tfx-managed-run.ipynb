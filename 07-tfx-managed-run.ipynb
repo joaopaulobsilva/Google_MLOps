{
 "cells": [
  {
   "cell_type": "markdown",
   "id": "mental-trainer",
   "metadata": {},
   "source": [
    "# TFX - Deploy Pipeline to AI Platform Managed Pipelines\n",
    "\n",
    "The purpose of this notebook is to compile and run the TFX pipeline to AI Platform Managed Pipelines. The notebook covers the following tasks:\n",
    "1. Set pipeline configurations\n",
    "2. Build Container Image\n",
    "3. Compile TFX Pipeline\n",
    "4. Submit a pipeline job to AI Platform Pipelines (Managed)."
   ]
  },
  {
   "cell_type": "markdown",
   "id": "honest-schedule",
   "metadata": {},
   "source": [
    "## Setup"
   ]
  },
  {
   "cell_type": "code",
   "execution_count": null,
   "id": "liable-dakota",
   "metadata": {},
   "outputs": [],
   "source": [
    "%load_ext autoreload\n",
    "%autoreload 2"
   ]
  },
  {
   "cell_type": "code",
   "execution_count": null,
   "id": "powerful-exemption",
   "metadata": {},
   "outputs": [],
   "source": [
    "import os\n",
    "import tensorflow as tf"
   ]
  },
  {
   "cell_type": "code",
   "execution_count": null,
   "id": "sorted-australian",
   "metadata": {},
   "outputs": [],
   "source": [
    "PROJECT = 'ksalama-cloudml' # Change to your project Id.\n",
    "REGION = 'us-central1'\n",
    "BUCKET = 'ksalama-cloudml-us' # Change to your bucket.\n",
    "API_KEY = '' # Change to your API Key."
   ]
  },
  {
   "cell_type": "code",
   "execution_count": null,
   "id": "destroyed-speech",
   "metadata": {},
   "outputs": [],
   "source": [
    "os.environ[\"API_KEY\"] = API_KEY\n",
    "os.environ[\"DATASET_DISPLAYNAME\"] = 'chicago_taxi_tips'\n",
    "os.environ[\"PROJECT\"] = PROJECT\n",
    "os.environ[\"REGION\"] = REGION\n",
    "os.environ[\"GCS_LOCATION\"] = f\"gs://{BUCKET}/ucaip_demo/chicago_taxi/pipelines_managed_runner\"\n",
    "os.environ[\"TRAIN_LIMIT\"] = \"85000\"\n",
    "os.environ[\"TEST_LIMIT\"] = \"15000\"\n",
    "os.environ[\"BEAM_RUNNER\"] = \"DataflowRunner\"\n",
    "os.environ[\"TRAINING_RUNNER\"] = \"caip\""
   ]
  },
  {
   "cell_type": "code",
   "execution_count": null,
   "id": "pharmaceutical-yellow",
   "metadata": {},
   "outputs": [],
   "source": [
    "from tfx_pipeline import config\n",
    "for key, value in config.__dict__.items():\n",
    "    if key.isupper(): print(f'{key}: {value}')"
   ]
  },
  {
   "cell_type": "markdown",
   "id": "about-baltimore",
   "metadata": {},
   "source": [
    "## Build Container Image"
   ]
  },
  {
   "cell_type": "code",
   "execution_count": null,
   "id": "arranged-football",
   "metadata": {},
   "outputs": [],
   "source": [
    "!echo $IMAGE_URI"
   ]
  },
  {
   "cell_type": "code",
   "execution_count": null,
   "id": "roman-resistance",
   "metadata": {},
   "outputs": [],
   "source": [
    "!gcloud builds submit --tag {config.IMAGE_URI} . --timeout=15m"
   ]
  },
  {
   "cell_type": "markdown",
   "id": "exact-miller",
   "metadata": {},
   "source": [
    "## Compile Pipeline"
   ]
  },
  {
   "cell_type": "code",
   "execution_count": null,
   "id": "earlier-school",
   "metadata": {},
   "outputs": [],
   "source": [
    "from tfx_pipeline import managed_runner"
   ]
  },
  {
   "cell_type": "code",
   "execution_count": null,
   "id": "toxic-lightweight",
   "metadata": {},
   "outputs": [],
   "source": [
    "pipeline_definition_file = managed_runner.compile_pipeline()"
   ]
  },
  {
   "cell_type": "markdown",
   "id": "brazilian-photograph",
   "metadata": {},
   "source": [
    "## Submit Run to AI Platform Managed Pipelines"
   ]
  },
  {
   "cell_type": "code",
   "execution_count": null,
   "id": "welsh-collect",
   "metadata": {},
   "outputs": [],
   "source": [
    "from aiplatform.pipelines import client\n",
    "\n",
    "pipeline_client = client.Client(\n",
    "    project_id=PROJECT,\n",
    "    region=REGION,\n",
    "    api_key=API_KEY\n",
    ")\n",
    "\n",
    "pipeline_client.create_run_from_job_spec(pipeline_definition_file)"
   ]
  },
  {
   "cell_type": "markdown",
   "id": "honey-married",
   "metadata": {},
   "source": [
    "![Pipeline execution](managed-pipeline.png)"
   ]
  },
  {
   "cell_type": "code",
   "execution_count": null,
   "id": "tough-construction",
   "metadata": {},
   "outputs": [],
   "source": []
  }
 ],
 "metadata": {
  "environment": {
   "name": "tf2-gpu.2-4.m65",
   "type": "gcloud",
   "uri": "gcr.io/deeplearning-platform-release/tf2-gpu.2-4:m65"
  },
  "kernelspec": {
   "display_name": "Python 3",
   "language": "python",
   "name": "python3"
  },
  "language_info": {
   "codemirror_mode": {
    "name": "ipython",
    "version": 3
   },
   "file_extension": ".py",
   "mimetype": "text/x-python",
   "name": "python",
   "nbconvert_exporter": "python",
   "pygments_lexer": "ipython3",
   "version": "3.7.10"
  }
 },
 "nbformat": 4,
 "nbformat_minor": 5
}
