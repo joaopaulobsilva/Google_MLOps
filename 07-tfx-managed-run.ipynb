{
 "cells": [
  {
   "cell_type": "markdown",
   "id": "chubby-volume",
   "metadata": {},
   "source": [
    "# TFX - Deploy Pipeline to AI Platform Managed Pipelines\n",
    "\n",
    "The purpose of this notebook is to compile and run the TFX pipeline to AI Platform Managed Pipelines. The notebook covers the following tasks:\n",
    "1. Set pipeline configurations\n",
    "2. Build Container Image\n",
    "3. Compile TFX Pipeline\n",
    "4. Submit a pipeline job to AI Platform Pipelines (Managed)."
   ]
  },
  {
   "cell_type": "markdown",
   "id": "found-saudi",
   "metadata": {},
   "source": [
    "## Setup"
   ]
  },
  {
   "cell_type": "code",
   "execution_count": null,
   "id": "hearing-skill",
   "metadata": {},
   "outputs": [],
   "source": [
    "%load_ext autoreload\n",
    "%autoreload 2"
   ]
  },
  {
   "cell_type": "code",
   "execution_count": null,
   "id": "genuine-voice",
   "metadata": {},
   "outputs": [],
   "source": [
    "import os\n",
    "import tensorflow as tf"
   ]
  },
  {
   "cell_type": "code",
   "execution_count": null,
   "id": "touched-november",
   "metadata": {},
   "outputs": [],
   "source": [
    "PROJECT = 'ksalama-cloudml' # Change to your project Id.\n",
    "REGION = 'us-central1'\n",
    "BUCKET = 'ksalama-cloudml-us' # Change to your bucket.\n",
    "API_KEY = '' # Change to your API Key."
   ]
  },
  {
   "cell_type": "code",
   "execution_count": null,
   "id": "criminal-closure",
   "metadata": {},
   "outputs": [],
   "source": [
    "os.environ[\"API_KEY\"] = API_KEY\n",
    "os.environ[\"DATASET_DISPLAYNAME\"] = 'chicago_taxi_tips'\n",
    "os.environ[\"PROJECT\"] = PROJECT\n",
    "os.environ[\"REGION\"] = REGION\n",
    "os.environ[\"GCS_LOCATION\"] = f\"gs://{BUCKET}/ucaip_demo/chicago_taxi/pipelines_managed_runner\"\n",
    "os.environ[\"TRAIN_LIMIT\"] = \"85000\"\n",
    "os.environ[\"TEST_LIMIT\"] = \"15000\"\n",
    "os.environ[\"BEAM_RUNNER\"] = \"DataflowRunner\"\n",
    "os.environ[\"TRAINING_RUNNER\"] = \"caip\""
   ]
  },
  {
   "cell_type": "code",
   "execution_count": null,
   "id": "wicked-universe",
   "metadata": {},
   "outputs": [],
   "source": [
    "from tfx_pipeline import config\n",
    "for key, value in config.__dict__.items():\n",
    "    if key.isupper(): print(f'{key}: {value}')"
   ]
  },
  {
   "cell_type": "markdown",
   "id": "fifth-haiti",
   "metadata": {},
   "source": [
    "## Build Container Image"
   ]
  },
  {
   "cell_type": "code",
   "execution_count": null,
   "id": "beautiful-climb",
   "metadata": {},
   "outputs": [],
   "source": [
    "!echo $IMAGE_URI"
   ]
  },
  {
   "cell_type": "code",
   "execution_count": null,
   "id": "pointed-touch",
   "metadata": {},
   "outputs": [],
   "source": [
    "!gcloud builds submit --tag $IMAGE_URI . --timeout=15m"
   ]
  },
  {
   "cell_type": "markdown",
   "id": "traditional-folder",
   "metadata": {},
   "source": [
    "## Compile Pipeline"
   ]
  },
  {
   "cell_type": "code",
   "execution_count": null,
   "id": "plastic-framework",
   "metadata": {},
   "outputs": [],
   "source": [
    "from tfx_pipeline import managed_runner"
   ]
  },
  {
   "cell_type": "code",
   "execution_count": null,
   "id": "several-creek",
   "metadata": {},
   "outputs": [],
   "source": [
    "pipeline_definition_file = managed_runner.compile_pipeline()"
   ]
  },
  {
   "cell_type": "markdown",
   "id": "embedded-legend",
   "metadata": {},
   "source": [
    "## Submit Run to AI Platform Managed Pipelines"
   ]
  },
  {
   "cell_type": "code",
   "execution_count": null,
   "id": "atomic-harassment",
   "metadata": {},
   "outputs": [],
   "source": [
    "from aiplatform.pipelines import client\n",
    "\n",
    "pipeline_client = client.Client(\n",
    "    project_id=PROJECT,\n",
    "    region=REGION,\n",
    "    api_key=API_KEY\n",
    ")\n",
    "\n",
    "pipeline_client.create_run_from_job_spec(\n",
    "    job_spec_path=pipeline_definition_file,\n",
    "    parameter_values={\n",
    "        'learning_rate': 0.003,\n",
    "        'batch_size': 512,\n",
    "        'hidden_units': '128,128'\n",
    "        'num_epchs': 50,\n",
    "    }\n",
    ")"
   ]
  },
  {
   "cell_type": "markdown",
   "id": "alpine-grocery",
   "metadata": {},
   "source": [
    "![Pipeline execution](managed-pipeline.png)"
   ]
  },
  {
   "cell_type": "code",
   "execution_count": null,
   "id": "lined-creek",
   "metadata": {},
   "outputs": [],
   "source": []
  }
 ],
 "metadata": {
  "environment": {
   "name": "tf2-gpu.2-4.m65",
   "type": "gcloud",
   "uri": "gcr.io/deeplearning-platform-release/tf2-gpu.2-4:m65"
  },
  "kernelspec": {
   "display_name": "Python 3",
   "language": "python",
   "name": "python3"
  },
  "language_info": {
   "codemirror_mode": {
    "name": "ipython",
    "version": 3
   },
   "file_extension": ".py",
   "mimetype": "text/x-python",
   "name": "python",
   "nbconvert_exporter": "python",
   "pygments_lexer": "ipython3",
   "version": "3.7.10"
  }
 },
 "nbformat": 4,
 "nbformat_minor": 5
}
