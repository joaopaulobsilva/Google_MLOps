{
 "cells": [
  {
   "cell_type": "markdown",
   "id": "approximate-window",
   "metadata": {},
   "source": [
    "# TFX - Run Training Pipeline locally using BeamDagRunner\n",
    "\n",
    "The purpose of this notebook is the to test running the end-to-end TFX pipeline locally. The TFX pipeline is implemented in the [tfx_pipeline](tfx_pipeline) directory. The notebook covers the following tasks:\n",
    "1. Set the pipeline configurations\n",
    "2. Configure the local metastore\n",
    "3. Run the pipeline "
   ]
  },
  {
   "cell_type": "markdown",
   "id": "respiratory-andrew",
   "metadata": {},
   "source": [
    "## Setup"
   ]
  },
  {
   "cell_type": "code",
   "execution_count": null,
   "id": "pending-riverside",
   "metadata": {},
   "outputs": [],
   "source": [
    "%load_ext autoreload\n",
    "%autoreload 2"
   ]
  },
  {
   "cell_type": "code",
   "execution_count": null,
   "id": "native-employee",
   "metadata": {},
   "outputs": [],
   "source": [
    "import os\n",
    "import kfp\n",
    "import tfx\n",
    "from tfx.orchestration.local.local_dag_runner import LocalDagRunner\n",
    "import tensorflow as tf\n",
    "import ml_metadata as mlmd\n",
    "from ml_metadata.proto import metadata_store_pb2\n",
    "import logging\n",
    "\n",
    "logging.getLogger().setLevel(logging.INFO)\n",
    "\n",
    "print(\"Tensorflow Version:\", tfx.__version__)\n",
    "print(\"KFP Version:\", kfp.__version__)"
   ]
  },
  {
   "cell_type": "markdown",
   "id": "minor-genre",
   "metadata": {},
   "source": [
    "## 1. Set pipeline configurations"
   ]
  },
  {
   "cell_type": "code",
   "execution_count": null,
   "id": "private-reserve",
   "metadata": {},
   "outputs": [],
   "source": [
    "os.environ[\"DATASET_DISPLAY_NAME\"] = 'chicago_taxi_tips'\n",
    "os.environ[\"PROJECT\"] = 'ksalama-cloudml'\n",
    "os.environ[\"REGION\"] = 'us-central1'\n",
    "os.environ[\"GCS_LOCATION\"] = \"gs://ksalama-cloudml-us/ucaip_demo/chicago_taxi/pipelines_local_runner\"\n",
    "os.environ[\"TRAIN_LIMIT\"] = \"85000\"\n",
    "os.environ[\"TEST_LIMIT\"] = \"15000\"\n",
    "os.environ[\"BEAM_RUNNER\"] = \"DirectRunner\"\n",
    "os.environ[\"TRAINING_RUNNER\"] = \"local\""
   ]
  },
  {
   "cell_type": "code",
   "execution_count": null,
   "id": "nearby-edgar",
   "metadata": {},
   "outputs": [],
   "source": [
    "from src.pipelines import config\n",
    "for key, value in config.__dict__.items():\n",
    "    if key.isupper(): print(f'{key}: {value}')"
   ]
  },
  {
   "cell_type": "markdown",
   "id": "certified-newfoundland",
   "metadata": {},
   "source": [
    "## 2. Congifure local metadata store"
   ]
  },
  {
   "cell_type": "code",
   "execution_count": null,
   "id": "generic-success",
   "metadata": {},
   "outputs": [],
   "source": [
    "MLMD_SQLLITE = 'mlmd.sqllite'\n",
    "\n",
    "gcs_location = os.environ[\"GCS_LOCATION\"]\n",
    "print(gcs_location)\n",
    "\n",
    "if tf.io.gfile.exists(gcs_location):\n",
    "    print(\"Removing previous artifacts...\")\n",
    "    tf.io.gfile.rmtree(gcs_location)\n",
    "\n",
    "if tf.io.gfile.exists(MLMD_SQLLITE):\n",
    "    print(\"Removing local mlmd SQLite...\")\n",
    "    tf.io.gfile.remove(MLMD_SQLLITE)\n",
    "\n",
    "metadata_connection_config = metadata_store_pb2.ConnectionConfig()\n",
    "metadata_connection_config.sqlite.filename_uri = MLMD_SQLLITE\n",
    "metadata_connection_config.sqlite.connection_mode = 3\n",
    "print(\"ML metadata store is ready.\")"
   ]
  },
  {
   "cell_type": "markdown",
   "id": "narrow-internship",
   "metadata": {},
   "source": [
    "## 3. Run the pipeline"
   ]
  },
  {
   "cell_type": "code",
   "execution_count": null,
   "id": "agreed-compound",
   "metadata": {},
   "outputs": [],
   "source": [
    "from src.pipelines import training_pipeline"
   ]
  },
  {
   "cell_type": "code",
   "execution_count": null,
   "id": "silver-tactics",
   "metadata": {},
   "outputs": [],
   "source": [
    "pipeline_root = os.path.join(\n",
    "    config.ARTIFACT_STORE_URI,\n",
    "    config.PIPELINE_NAME,\n",
    ")\n",
    "\n",
    "runner = LocalDagRunner()\n",
    "\n",
    "pipeline = training_pipeline.create_pipeline(\n",
    "    metadata_connection_config=metadata_connection_config,\n",
    "    pipeline_root=pipeline_root,\n",
    "    num_epochs=50,\n",
    "    batch_size=512,\n",
    "    learning_rate=0.0003,\n",
    "    hidden_units=\"256,128\",\n",
    ")\n",
    "\n",
    "runner.run(pipeline)\n",
    "\n",
    "print(\"Pipeline finished exection.\")"
   ]
  },
  {
   "cell_type": "code",
   "execution_count": null,
   "id": "matched-thirty",
   "metadata": {},
   "outputs": [],
   "source": []
  }
 ],
 "metadata": {
  "environment": {
   "name": "tf2-gpu.2-4.m65",
   "type": "gcloud",
   "uri": "gcr.io/deeplearning-platform-release/tf2-gpu.2-4:m65"
  },
  "kernelspec": {
   "display_name": "Python 3",
   "language": "python",
   "name": "python3"
  },
  "language_info": {
   "codemirror_mode": {
    "name": "ipython",
    "version": 3
   },
   "file_extension": ".py",
   "mimetype": "text/x-python",
   "name": "python",
   "nbconvert_exporter": "python",
   "pygments_lexer": "ipython3",
   "version": "3.7.10"
  }
 },
 "nbformat": 4,
 "nbformat_minor": 5
}
