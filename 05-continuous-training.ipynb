{
 "cells": [
  {
   "cell_type": "markdown",
   "id": "6d9a20b8",
   "metadata": {},
   "source": [
    "# 05 - Continuous training\n",
    "\n",
    "After testing, compiling, and uploading the pipeline definition to Cloud Storage, the pipeline is executed with respect to a trigger. `Cloud Functions` and `Cloud Pub/Sub` are used in this notebook as a triggering mechanism. The triggering can be scheduled using `Cloud Scheduler`. The trigger source sends a message to a Cloud Pub/Sub topic that the Cloud Function listens to, and then it submits the pipeline to `Vertex Pipelines` to be executed.\n",
    "\n",
    "This notebook covers the following steps:\n",
    "1. Create the `Cloud Pub/Sub` topic.\n",
    "2. Deploy the `Cloud Function` \n",
    "3. Test triggering a pipeline.\n",
    "4. Extracting pipeline run metadata.\n",
    "\n",
    "Learn about [Cloud Functions](https://cloud.google.com/functions).\n",
    "Learn about [Cloud Pub/Sub](https://cloud.google.com/pubsub).\n",
    "Learn about [Cloud Scheduler](https://cloud.google.com/scheduler)"
   ]
  },
  {
   "cell_type": "markdown",
   "id": "80c49c0d",
   "metadata": {},
   "source": [
    "## Setup"
   ]
  },
  {
   "cell_type": "markdown",
   "id": "631a157b",
   "metadata": {},
   "source": [
    "### Import libraries"
   ]
  },
  {
   "cell_type": "code",
   "execution_count": null,
   "id": "f580d94c",
   "metadata": {},
   "outputs": [],
   "source": [
    "import json\n",
    "import os\n",
    "import logging\n",
    "import tensorflow as tf\n",
    "import tfx\n",
    "import IPython \n",
    "\n",
    "logging.getLogger().setLevel(logging.INFO)\n",
    "\n",
    "print('Tensorflow Version:', tfx.__version__)"
   ]
  },
  {
   "cell_type": "markdown",
   "id": "98eb28df",
   "metadata": {},
   "source": [
    "### Setup Google Cloud project"
   ]
  },
  {
   "cell_type": "code",
   "execution_count": null,
   "id": "c3e48544",
   "metadata": {},
   "outputs": [],
   "source": [
    "PROJECT_ID = '[your-project-id]'  # Change to your project id.\n",
    "REGION = 'us-central1'  # Change to your region.\n",
    "BUCKET = '[your-bucket-name]'  # Change to your bucket name.\n",
    "\n",
    "if PROJECT_ID == '' or PROJECT_ID is None or PROJECT_ID == '[your-project-id]':\n",
    "    # Get your GCP project id from gcloud\n",
    "    shell_output = !gcloud config list --format 'value(core.project)' 2>/dev/null\n",
    "    PROJECT_ID = shell_output[0]\n",
    "    \n",
    "if BUCKET == '' or BUCKET is None or BUCKET == '[your-bucket-name]':\n",
    "    # Set your bucket name using your GCP project id\n",
    "    BUCKET = PROJECT_ID\n",
    "    # Try to create the bucket if it doesn'exists\n",
    "    ! gsutil mb -l $REGION gs://$BUCKET\n",
    "    print('')\n",
    "\n",
    "print('Project ID:', PROJECT_ID)\n",
    "print('Region:', REGION)\n",
    "print('Bucket name:', BUCKET)"
   ]
  },
  {
   "cell_type": "markdown",
   "id": "ee7b37fc",
   "metadata": {},
   "source": [
    "### Set configurations"
   ]
  },
  {
   "cell_type": "code",
   "execution_count": null,
   "id": "eafe65d0",
   "metadata": {},
   "outputs": [],
   "source": [
    "VERSION = 'v1'\n",
    "DATASET_DISPLAY_NAME = 'chicago-taxi-tips'\n",
    "MODEL_DISPLAY_NAME = f'{DATASET_DISPLAY_NAME}-classifier-{VERSION}'\n",
    "PIPELINE_NAME = f'{MODEL_DISPLAY_NAME}-train-pipeline'\n",
    "\n",
    "PIPELINES_STORE = f'gs://{BUCKET}/{DATASET_DISPLAY_NAME}/compiled_pipelines/'\n",
    "GCS_PIPELINE_FILE_LOCATION = os.path.join(PIPELINES_STORE, f'{PIPELINE_NAME}.json')\n",
    "PUBSUB_TOPIC = f'trigger-{PIPELINE_NAME}'\n",
    "CLOUD_FUNCTION_NAME = f'trigger-{PIPELINE_NAME}-fn'"
   ]
  },
  {
   "cell_type": "code",
   "execution_count": null,
   "id": "548b560a",
   "metadata": {},
   "outputs": [],
   "source": [
    "!gsutil ls {GCS_PIPELINE_FILE_LOCATION}"
   ]
  },
  {
   "cell_type": "markdown",
   "id": "df38282b",
   "metadata": {},
   "source": [
    "## 1. Create a Pub/Sub topic"
   ]
  },
  {
   "cell_type": "code",
   "execution_count": null,
   "id": "9480089c",
   "metadata": {},
   "outputs": [],
   "source": [
    "! gcloud pubsub topics create {PUBSUB_TOPIC}"
   ]
  },
  {
   "cell_type": "markdown",
   "id": "04809f75",
   "metadata": {},
   "source": [
    "## 2. Deploy the Cloud Function"
   ]
  },
  {
   "cell_type": "code",
   "execution_count": null,
   "id": "96a62934",
   "metadata": {},
   "outputs": [],
   "source": [
    "ENV_VARS=f'''\\\n",
    "PROJECT={PROJECT_ID},\\\n",
    "REGION={REGION},\\\n",
    "GCS_PIPELINE_FILE_LOCATION={GCS_PIPELINE_FILE_LOCATION}\n",
    "'''\n",
    "\n",
    "! echo {ENV_VARS}"
   ]
  },
  {
   "cell_type": "code",
   "execution_count": null,
   "id": "e255512a",
   "metadata": {},
   "outputs": [],
   "source": [
    "! rm -r src/pipeline_triggering/.ipynb_checkpoints"
   ]
  },
  {
   "cell_type": "code",
   "execution_count": null,
   "id": "a1750a22",
   "metadata": {},
   "outputs": [],
   "source": [
    "! gcloud functions deploy {CLOUD_FUNCTION_NAME} \\\n",
    "    --region={REGION} \\\n",
    "    --trigger-topic={PUBSUB_TOPIC} \\\n",
    "    --runtime=python37 \\\n",
    "    --source=src/pipeline_triggering\\\n",
    "    --entry-point=trigger_pipeline\\\n",
    "    --stage-bucket={BUCKET}\\\n",
    "    --update-env-vars={ENV_VARS}"
   ]
  },
  {
   "cell_type": "code",
   "execution_count": null,
   "id": "975506f4",
   "metadata": {},
   "outputs": [],
   "source": [
    "cloud_fn_url = f'https://console.cloud.google.com/functions/details/{REGION}/{CLOUD_FUNCTION_NAME}'\n",
    "html = f'See the Cloud Function details <a href=\"{cloud_fn_url}\" target=\"_blank\">here</a>.'\n",
    "IPython.display.display(IPython.display.HTML(html))"
   ]
  },
  {
   "cell_type": "markdown",
   "id": "68353689",
   "metadata": {},
   "source": [
    "## 3. Trigger the pipeline"
   ]
  },
  {
   "cell_type": "code",
   "execution_count": null,
   "id": "5867cb42",
   "metadata": {},
   "outputs": [],
   "source": [
    "from google.cloud import pubsub\n",
    "\n",
    "publish_client = pubsub.PublisherClient()\n",
    "topic = f'projects/{PROJECT_ID}/topics/{PUBSUB_TOPIC}'\n",
    "data = {\n",
    "    'num_epochs': 7,\n",
    "    'learning_rate': 0.0015,\n",
    "    'batch_size': 512,\n",
    "    'hidden_units': '256,126'\n",
    "}\n",
    "message = json.dumps(data)\n",
    "\n",
    "_ = publish_client.publish(topic, message.encode())"
   ]
  },
  {
   "cell_type": "markdown",
   "id": "c0cab5d5",
   "metadata": {},
   "source": [
    "Wait for a few seconds for the pipeline run to be submitted, then you can see the run in the Cloud Console"
   ]
  },
  {
   "cell_type": "code",
   "execution_count": null,
   "id": "ba3a874d",
   "metadata": {},
   "outputs": [],
   "source": [
    "from kfp.v2.google.client import AIPlatformClient\n",
    "\n",
    "pipeline_client = AIPlatformClient(\n",
    "    project_id=PROJECT_ID, region=REGION)\n",
    " \n",
    "job_display_name = pipeline_client.list_jobs()['pipelineJobs'][0]['displayName']\n",
    "job_url = f'https://console.cloud.google.com/vertex-ai/locations/{REGION}/pipelines/runs/{job_display_name}'\n",
    "html = f'See the Pipeline job <a href=\"{job_url}\" target=\"_blank\">here</a>.'\n",
    "IPython.display.display(IPython.display.HTML(html))"
   ]
  },
  {
   "cell_type": "markdown",
   "id": "f5947872",
   "metadata": {},
   "source": [
    "## 4. Extracting pipeline runs metadata"
   ]
  },
  {
   "cell_type": "code",
   "execution_count": null,
   "id": "d708891e",
   "metadata": {},
   "outputs": [],
   "source": [
    "from google.cloud import aiplatform as vertex_ai\n",
    "\n",
    "pipeline_df = vertex_ai.get_pipeline_df(PIPELINE_NAME)\n",
    "pipeline_df = pipeline_df[pipeline_df.pipeline_name == PIPELINE_NAME]\n",
    "pipeline_df.T"
   ]
  },
  {
   "cell_type": "code",
   "execution_count": null,
   "id": "0071883b",
   "metadata": {},
   "outputs": [],
   "source": []
  }
 ],
 "metadata": {
  "environment": {
   "name": "common-cpu.m73",
   "type": "gcloud",
   "uri": "gcr.io/deeplearning-platform-release/base-cpu:m73"
  },
  "kernelspec": {
   "display_name": "Python 3",
   "language": "python",
   "name": "python3"
  },
  "language_info": {
   "codemirror_mode": {
    "name": "ipython",
    "version": 3
   },
   "file_extension": ".py",
   "mimetype": "text/x-python",
   "name": "python",
   "nbconvert_exporter": "python",
   "pygments_lexer": "ipython3",
   "version": "3.7.10"
  }
 },
 "nbformat": 4,
 "nbformat_minor": 5
}
