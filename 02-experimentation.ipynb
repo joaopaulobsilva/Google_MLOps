{
 "cells": [
  {
   "cell_type": "markdown",
   "id": "alleged-height",
   "metadata": {},
   "source": [
    "# 02 - ML Experimentation with Custom Model\n",
    "\n",
    "The purpose of this notebook is to use [custom training](https://cloud.google.com/ai-platform-unified/docs/training/custom-training) to train a keras classifier to predict whether a given trip will result in a tip > 20%. The notebook covers the following tasks:\n",
    "1. Preprocess the data locally using Apache Bean.\n",
    "2. Train a custom model locally using a Keras implementation.\n",
    "3. Test the exported model for serving.\n",
    "4. Submit a Dataflow job to preprocess the data at scale.\n",
    "5. Submit a custom training job to AI Platform\n",
    "6. Upload the trained model to AI Platform"
   ]
  },
  {
   "cell_type": "markdown",
   "id": "ecological-sustainability",
   "metadata": {},
   "source": [
    "## Setup"
   ]
  },
  {
   "cell_type": "code",
   "execution_count": null,
   "id": "metropolitan-nursery",
   "metadata": {},
   "outputs": [],
   "source": [
    "%load_ext autoreload\n",
    "%autoreload 2?"
   ]
  },
  {
   "cell_type": "code",
   "execution_count": null,
   "id": "annual-prediction",
   "metadata": {},
   "outputs": [],
   "source": [
    "import os\n",
    "import time\n",
    "import logging\n",
    "from datetime import datetime\n",
    "import numpy as np\n",
    "\n",
    "import tensorflow as tf\n",
    "import tensorflow_transform as tft\n",
    "import tensorflow.keras as keras\n",
    "\n",
    "from src.common import features\n",
    "from src.model_training import data, model, defaults, trainer, exporter\n",
    "from src.preprocessing import etl\n",
    "\n",
    "logging.getLogger().setLevel(logging.INFO)\n",
    "\n",
    "print(f\"TensorFlow: {tf.__version__}\")\n",
    "print(f\"TensorFlow Transform: {tft.__version__}\")"
   ]
  },
  {
   "cell_type": "code",
   "execution_count": null,
   "id": "alternative-juice",
   "metadata": {},
   "outputs": [],
   "source": [
    "PROJECT = 'ksalama-cloudml'  # Change to your project Id.\n",
    "REGION = 'us-central1'\n",
    "BUCKET = 'ksalama-cloudml-us'  # Change to your bucket.\n",
    "\n",
    "DATASET_DISPLAY_NAME = 'chicago_taxi_tips'\n",
    "MODEL_DISPLAY_NAME = f'{DATASET_DISPLAY_NAME}_classifier_v1'\n",
    "\n",
    "WORKSPACE = f'gs://{BUCKET}/ucaip_demo/chicago_taxi/experiments'\n",
    "RAW_SCHEMA_LOCATION = 'src/raw_schema/schema.pbtxt'\n",
    "TRAINING_DIR = os.path.join(WORKSPACE, 'training_output')\n",
    "PREPROCESSING_DIR = os.path.join(WORKSPACE, 'preprocessing_output')"
   ]
  },
  {
   "cell_type": "code",
   "execution_count": null,
   "id": "qualified-antibody",
   "metadata": {},
   "outputs": [],
   "source": [
    "REMOVE_WORKSPACE = True\n",
    "if tf.io.gfile.exists(WORKSPACE) and REMOVE_WORKSPACE:\n",
    "    print(\"Removing previous local workspace...\")\n",
    "    tf.io.gfile.rmtree(WORKSPACE)\n",
    "\n",
    "print(\"Creating new local workspace...\")\n",
    "tf.io.gfile.mkdir(WORKSPACE)"
   ]
  },
  {
   "cell_type": "code",
   "execution_count": null,
   "id": "banner-potato",
   "metadata": {},
   "outputs": [],
   "source": [
    "from src.utils.ucaip_utils import AIPUtils\n",
    "aip_utils = AIPUtils(PROJECT, REGION)"
   ]
  },
  {
   "cell_type": "markdown",
   "id": "congressional-value",
   "metadata": {},
   "source": [
    "## 1. Preprocess the data using Dataflow\n",
    "\n",
    "The Apache Beam pipeline of data preprocessing is implemented in the [preprocessing](src/preprocessing) directory."
   ]
  },
  {
   "cell_type": "code",
   "execution_count": null,
   "id": "solid-parade",
   "metadata": {},
   "outputs": [],
   "source": [
    "EXPORTED_DATA_PREFIX = os.path.join(PREPROCESSING_DIR, 'exported_data')\n",
    "TRANSFORMED_DATA_PREFIX = os.path.join(PREPROCESSING_DIR, 'transformed_data')\n",
    "TRANSFORM_ARTEFACTS_DIR = os.path.join(PREPROCESSING_DIR, 'transform_artifacts')"
   ]
  },
  {
   "cell_type": "markdown",
   "id": "viral-depth",
   "metadata": {},
   "source": [
    "### Get Source Query from Managed Dataset"
   ]
  },
  {
   "cell_type": "code",
   "execution_count": null,
   "id": "optimum-grant",
   "metadata": {},
   "outputs": [],
   "source": [
    "from src.utils import datasource_utils"
   ]
  },
  {
   "cell_type": "code",
   "execution_count": null,
   "id": "private-circulation",
   "metadata": {},
   "outputs": [],
   "source": [
    "DATA_SPLIT = 'UNASSIGNED'\n",
    "LIMIT = 5120\n",
    "\n",
    "raw_data_query = datasource_utils.get_training_source_query(\n",
    "    project=PROJECT, \n",
    "    region=REGION, \n",
    "    dataset_display_name=DATASET_DISPLAY_NAME, \n",
    "    data_split=DATA_SPLIT, \n",
    "    limit=LIMIT\n",
    ")\n",
    "\n",
    "print(raw_data_query)"
   ]
  },
  {
   "cell_type": "markdown",
   "id": "alien-encyclopedia",
   "metadata": {},
   "source": [
    "### Test Data Preprocessing Locally"
   ]
  },
  {
   "cell_type": "code",
   "execution_count": null,
   "id": "direct-earthquake",
   "metadata": {},
   "outputs": [],
   "source": [
    "if tf.io.gfile.exists(PREPROCESSING_DIR):\n",
    "    print(\"Removing previous preprocessing outputs...\")\n",
    "    tf.io.gfile.rmtree(PREPROCESSING_DIR)\n",
    "print(\"Creating preprocessing outputs directory...\")\n",
    "tf.io.gfile.mkdir(PREPROCESSING_DIR)\n",
    "\n",
    "args = {\n",
    "    'runner': 'DirectRunner',\n",
    "    'raw_data_query': raw_data_query,\n",
    "    'write_raw_data': True,\n",
    "    'exported_data_prefix': EXPORTED_DATA_PREFIX,\n",
    "    'transformed_data_prefix': TRANSFORMED_DATA_PREFIX,\n",
    "    'transform_artefact_dir': TRANSFORM_ARTEFACTS_DIR,\n",
    "    'temporary_dir': os.path.join(WORKSPACE, 'tmp'),\n",
    "    'gcs_location': f'gs://{BUCKET}/bq_tmp',\n",
    "    'project': PROJECT\n",
    "}"
   ]
  },
  {
   "cell_type": "code",
   "execution_count": null,
   "id": "nearby-assets",
   "metadata": {},
   "outputs": [],
   "source": [
    "print(\"Data preprocessing started...\")\n",
    "etl.run_transform_pipeline(args)\n",
    "print(\"Data preprocessing completed.\")"
   ]
  },
  {
   "cell_type": "code",
   "execution_count": null,
   "id": "certified-software",
   "metadata": {},
   "outputs": [],
   "source": [
    "!gsutil ls {PREPROCESSING_DIR}"
   ]
  },
  {
   "cell_type": "markdown",
   "id": "continuing-efficiency",
   "metadata": {},
   "source": [
    "## 2. Train a Custom Model Localy using a Keras Implementation\n",
    "\n",
    "The Keras implementation of the custom model is in the [model_training](src/model_training) directory."
   ]
  },
  {
   "cell_type": "code",
   "execution_count": null,
   "id": "blessed-technology",
   "metadata": {},
   "outputs": [],
   "source": [
    "LOG_DIR = os.path.join(TRAINING_DIR, 'logs')\n",
    "EXPORT_DIR = os.path.join(TRAINING_DIR, 'export')"
   ]
  },
  {
   "cell_type": "markdown",
   "id": "coastal-thought",
   "metadata": {},
   "source": [
    "### Read transformed data"
   ]
  },
  {
   "cell_type": "code",
   "execution_count": null,
   "id": "informal-plaza",
   "metadata": {},
   "outputs": [],
   "source": [
    "tft_output = tft.TFTransformOutput(TRANSFORM_ARTEFACTS_DIR)\n",
    "transform_feature_spec = tft_output.transformed_feature_spec()\n",
    "transform_feature_spec"
   ]
  },
  {
   "cell_type": "code",
   "execution_count": null,
   "id": "major-pakistan",
   "metadata": {},
   "outputs": [],
   "source": [
    "train_data_file_pattern = os.path.join(TRANSFORMED_DATA_PREFIX,'train/data-*.gz')\n",
    "eval_data_file_pattern = os.path.join(TRANSFORMED_DATA_PREFIX,'eval/data-*.gz')\n",
    "\n",
    "for input_features, target in data.get_dataset(\n",
    "    train_data_file_pattern, transform_feature_spec, batch_size=3).take(1):\n",
    "    for key in input_features:\n",
    "        print(f\"{key} {input_features[key].dtype}: {input_features[key].numpy().tolist()}\")\n",
    "    print(f\"target: {target.numpy().tolist()}\")"
   ]
  },
  {
   "cell_type": "markdown",
   "id": "stylish-turtle",
   "metadata": {},
   "source": [
    "### Create model inputs"
   ]
  },
  {
   "cell_type": "code",
   "execution_count": null,
   "id": "dress-kansas",
   "metadata": {},
   "outputs": [],
   "source": [
    "input_layers = model.create_model_inputs()\n",
    "input_layers"
   ]
  },
  {
   "cell_type": "markdown",
   "id": "identical-royal",
   "metadata": {},
   "source": [
    "### Create hyperparameters"
   ]
  },
  {
   "cell_type": "code",
   "execution_count": null,
   "id": "impossible-space",
   "metadata": {},
   "outputs": [],
   "source": [
    "hyperparams = {\n",
    "    \"hidden_units\": [64, 32]\n",
    "}\n",
    "\n",
    "hyperparams = defaults.update_hyperparams(hyperparams)\n",
    "hyperparams"
   ]
  },
  {
   "cell_type": "markdown",
   "id": "velvet-montana",
   "metadata": {},
   "source": [
    "### Create and test model inputs and outputs"
   ]
  },
  {
   "cell_type": "code",
   "execution_count": null,
   "id": "sharp-inventory",
   "metadata": {},
   "outputs": [],
   "source": [
    "classifier = model.create_binary_classifier(tft_output, hyperparams)\n",
    "classifier.summary()"
   ]
  },
  {
   "cell_type": "code",
   "execution_count": null,
   "id": "hearing-probability",
   "metadata": {},
   "outputs": [],
   "source": [
    "keras.utils.plot_model(\n",
    "    classifier, \n",
    "    show_shapes=True, \n",
    "    show_dtype=True\n",
    ")"
   ]
  },
  {
   "cell_type": "code",
   "execution_count": null,
   "id": "regulated-sculpture",
   "metadata": {},
   "outputs": [],
   "source": [
    "classifier(input_features)"
   ]
  },
  {
   "cell_type": "markdown",
   "id": "patent-agenda",
   "metadata": {},
   "source": [
    "### Train the model locally."
   ]
  },
  {
   "cell_type": "code",
   "execution_count": null,
   "id": "sustainable-artwork",
   "metadata": {},
   "outputs": [],
   "source": [
    "logging.getLogger().setLevel(logging.INFO)\n",
    "\n",
    "hyperparams[\"learning_rate\"] = 0.001\n",
    "hyperparams[\"num_epochs\"] = 3\n",
    "hyperparams[\"batch_size\"] = 512\n",
    "\n",
    "classifier = trainer.train(\n",
    "    train_data_dir=train_data_file_pattern,\n",
    "    eval_data_dir=eval_data_file_pattern,\n",
    "    raw_schema_location=RAW_SCHEMA_LOCATION,\n",
    "    tft_output_dir=TRANSFORM_ARTEFACTS_DIR,\n",
    "    hyperparams=hyperparams,\n",
    "    log_dir=LOG_DIR,\n",
    ")"
   ]
  },
  {
   "cell_type": "markdown",
   "id": "legitimate-montgomery",
   "metadata": {},
   "source": [
    "### Export the trained model"
   ]
  },
  {
   "cell_type": "code",
   "execution_count": null,
   "id": "young-bangladesh",
   "metadata": {},
   "outputs": [],
   "source": [
    "if tf.io.gfile.exists(EXPORT_DIR):\n",
    "    tf.io.gfile.rmtree(EXPORT_DIR)\n",
    "    \n",
    "saved_model_dir = os.path.join(EXPORT_DIR)\n",
    "\n",
    "exporter.export_serving_model(\n",
    "    classifier=classifier,\n",
    "    serving_model_dir=saved_model_dir,\n",
    "    raw_schema_location=RAW_SCHEMA_LOCATION,\n",
    "    tft_output_dir=TRANSFORM_ARTEFACTS_DIR,\n",
    ")"
   ]
  },
  {
   "cell_type": "code",
   "execution_count": null,
   "id": "utility-settlement",
   "metadata": {},
   "outputs": [],
   "source": [
    "!saved_model_cli show --dir={saved_model_dir} --tag_set=serve --signature_def=serving_tf_example"
   ]
  },
  {
   "cell_type": "code",
   "execution_count": null,
   "id": "baking-polish",
   "metadata": {},
   "outputs": [],
   "source": [
    "!saved_model_cli show --dir={saved_model_dir} --tag_set=serve --signature_def=serving_default"
   ]
  },
  {
   "cell_type": "markdown",
   "id": "promotional-satisfaction",
   "metadata": {},
   "source": [
    "### Test the exported SavedModel"
   ]
  },
  {
   "cell_type": "code",
   "execution_count": null,
   "id": "associate-repository",
   "metadata": {},
   "outputs": [],
   "source": [
    "serving_model = tf.saved_model.load(saved_model_dir)"
   ]
  },
  {
   "cell_type": "code",
   "execution_count": null,
   "id": "statutory-soviet",
   "metadata": {},
   "outputs": [],
   "source": [
    "file_names = tf.data.TFRecordDataset.list_files(EXPORTED_DATA_PREFIX + '-*.tfrecord')\n",
    "for batch in tf.data.TFRecordDataset(file_names).batch(3).take(1):\n",
    "    predictions = serving_model.signatures['serving_tf_example'](batch)\n",
    "    for key in predictions:\n",
    "        print(f\"{key}: {predictions[key]}\")"
   ]
  },
  {
   "cell_type": "code",
   "execution_count": null,
   "id": "proof-tracker",
   "metadata": {},
   "outputs": [],
   "source": [
    "import tensorflow_data_validation as tfdv\n",
    "from tensorflow_transform.tf_metadata import schema_utils\n",
    "\n",
    "raw_schema = tfdv.load_schema_text(RAW_SCHEMA_LOCATION)\n",
    "raw_feature_spec = schema_utils.schema_as_feature_spec(raw_schema).feature_spec"
   ]
  },
  {
   "cell_type": "code",
   "execution_count": null,
   "id": "massive-episode",
   "metadata": {},
   "outputs": [],
   "source": [
    "instance = {\n",
    "    \"dropoff_grid\": \"POINT(-87.6 41.9)\",\n",
    "    \"euclidean\": 2064.2696,\n",
    "    \"loc_cross\": \"\",\n",
    "    \"payment_type\": \"Credit Card\",\n",
    "    \"pickup_grid\": \"POINT(-87.6 41.9)\",\n",
    "    \"trip_miles\": 1.37,\n",
    "    \"trip_day\": 12,\n",
    "    \"trip_hour\": 6,\n",
    "    \"trip_month\": 2,\n",
    "    \"trip_day_of_week\": 4,\n",
    "    \"trip_seconds\": 555,\n",
    "}\n",
    "\n",
    "for feature_name in instance:\n",
    "    dtype = raw_feature_spec[feature_name].dtype\n",
    "    instance[feature_name] = tf.constant([[instance[feature_name]]], dtype)"
   ]
  },
  {
   "cell_type": "code",
   "execution_count": null,
   "id": "cross-omaha",
   "metadata": {},
   "outputs": [],
   "source": [
    "predictions = serving_model.signatures['serving_default'](**instance)\n",
    "for key in predictions:\n",
    "    print(f\"{key}: {predictions[key].numpy()}\")"
   ]
  },
  {
   "cell_type": "markdown",
   "id": "pleasant-personal",
   "metadata": {},
   "source": [
    "## 3. Submit a Data Processing Job to Dataflow"
   ]
  },
  {
   "cell_type": "code",
   "execution_count": null,
   "id": "human-variation",
   "metadata": {},
   "outputs": [],
   "source": [
    "if tf.io.gfile.exists(PREPROCESSING_DIR):\n",
    "    print(\"Removing previous preprocessing outputs...\")\n",
    "    tf.io.gfile.rmtree(PREPROCESSING_DIR)\n",
    "print(\"Creating preprocessing outputs directory...\")\n",
    "tf.io.gfile.mkdir(PREPROCESSING_DIR)"
   ]
  },
  {
   "cell_type": "code",
   "execution_count": null,
   "id": "peaceful-motion",
   "metadata": {},
   "outputs": [],
   "source": [
    "DATA_SPLIT = 'UNASSIGNED'\n",
    "LIMIT = 1000000\n",
    "raw_data_query = datasource_utils.get_training_source_query(\n",
    "    project=PROJECT, \n",
    "    region=REGION, \n",
    "    dataset_display_name=DATASET_DISPLAY_NAME, \n",
    "    data_split=DATA_SPLIT, \n",
    "    limit=LIMIT\n",
    ")\n",
    "\n",
    "args = {\n",
    "    'runner': 'DataflowRunner',\n",
    "    'raw_data_query': raw_data_query,\n",
    "    'exported_data_prefix': EXPORTED_DATA_PREFIX,\n",
    "    'transformed_data_prefix': TRANSFORMED_DATA_PREFIX,\n",
    "    'transform_artefact_dir': TRANSFORM_ARTEFACTS_DIR,\n",
    "    'write_raw_data': False,\n",
    "    'temporary_dir': os.path.join(WORKSPACE, 'tmp'),\n",
    "    'gcs_location': os.path.join(WORKSPACE, 'bq_tmp'),\n",
    "    'project': PROJECT,\n",
    "    'region': REGION,\n",
    "    'setup_file': './setup.py'\n",
    "}"
   ]
  },
  {
   "cell_type": "code",
   "execution_count": null,
   "id": "bottom-amino",
   "metadata": {},
   "outputs": [],
   "source": [
    "logging.getLogger().setLevel(logging.ERROR)\n",
    "\n",
    "print(\"Data preprocessing started...\")\n",
    "etl.run_transform_pipeline(args)\n",
    "print(\"Data preprocessing completed.\")"
   ]
  },
  {
   "cell_type": "code",
   "execution_count": null,
   "id": "disabled-standard",
   "metadata": {},
   "outputs": [],
   "source": [
    "!gsutil ls {PREPROCESSING_DIR}"
   ]
  },
  {
   "cell_type": "markdown",
   "id": "compressed-genius",
   "metadata": {},
   "source": [
    "## 4. Submit a Custom Training Job to AI Platform"
   ]
  },
  {
   "cell_type": "markdown",
   "id": "acoustic-fight",
   "metadata": {},
   "source": [
    "### Test the training task locally"
   ]
  },
  {
   "cell_type": "code",
   "execution_count": null,
   "id": "renewable-typing",
   "metadata": {},
   "outputs": [],
   "source": [
    "!python -m src.model_training.task \\\n",
    "    --model-dir={EXPORT_DIR} \\\n",
    "    --log-dir={LOG_DIR} \\\n",
    "    --train-data-dir={TRANSFORMED_DATA_PREFIX}/train/* \\\n",
    "    --eval-data-dir={TRANSFORMED_DATA_PREFIX}/eval/*  \\\n",
    "    --tft-output-dir={TRANSFORM_ARTEFACTS_DIR} \\\n",
    "    --num-epochs=1 \\\n",
    "    --hidden-units=32,32"
   ]
  },
  {
   "cell_type": "markdown",
   "id": "usual-milan",
   "metadata": {},
   "source": [
    "### Prepare training package"
   ]
  },
  {
   "cell_type": "code",
   "execution_count": null,
   "id": "cross-florist",
   "metadata": {},
   "outputs": [],
   "source": [
    "TRAINER_PACKAGE_DIR = os.path.join(WORKSPACE, 'trainer_packages')\n",
    "\n",
    "!rm -r src/__pycache__/\n",
    "!rm -r src/.ipynb_checkpoints/\n",
    "!rm -r src/raw_schema/.ipynb_checkpoints/\n",
    "!rm -f custom_job.tar custom_job.tar.gz\n",
    "\n",
    "!mkdir custom_job\n",
    "\n",
    "!cp setup.py custom_job/\n",
    "!cp -r src custom_job/\n",
    "!tar cvf custom_job.tar custom_job\n",
    "!gzip custom_job.tar\n",
    "!gsutil cp custom_job.tar.gz {TRAINER_PACKAGE_DIR}/\n",
    "!rm -r custom_job"
   ]
  },
  {
   "cell_type": "markdown",
   "id": "unauthorized-whole",
   "metadata": {},
   "source": [
    "### Prepare the training job"
   ]
  },
  {
   "cell_type": "code",
   "execution_count": null,
   "id": "female-origin",
   "metadata": {},
   "outputs": [],
   "source": [
    "TRAIN_RUNTIME = 'tf-cpu.2-4'\n",
    "TRAIN_IMAGE = f\"gcr.io/cloud-aiplatform/training/{TRAIN_RUNTIME}:latest\""
   ]
  },
  {
   "cell_type": "code",
   "execution_count": null,
   "id": "bigger-confidence",
   "metadata": {},
   "outputs": [],
   "source": [
    "trainer_args = [\n",
    "    f'--train-data-dir={TRANSFORMED_DATA_PREFIX + \"/train/*\"}',\n",
    "    f'--eval-data-dir={TRANSFORMED_DATA_PREFIX + \"/eval/*\"}',\n",
    "    f'--tft-output-dir={TRANSFORM_ARTEFACTS_DIR}',\n",
    "    f'--num-epochs={10}',\n",
    "    f'--learning-rate={0.001}',\n",
    "    f'--hidden-units=64,32'\n",
    "]"
   ]
  },
  {
   "cell_type": "code",
   "execution_count": null,
   "id": "annual-punch",
   "metadata": {},
   "outputs": [],
   "source": [
    "training_spec = [\n",
    "    {\n",
    "        \"replica_count\": 1,\n",
    "        \"machine_spec\": {\n",
    "            \"machine_type\": 'n1-standard-4',\n",
    "            \"accelerator_count\": 0\n",
    "    },\n",
    "        \"python_package_spec\": {\n",
    "            \"executor_image_uri\": TRAIN_IMAGE,\n",
    "            \"package_uris\": [os.path.join(TRAINER_PACKAGE_DIR, 'custom_job.tar.gz')],\n",
    "            \"python_module\": \"src.model_training.task\",\n",
    "            \"args\": trainer_args,\n",
    "        }\n",
    "    }\n",
    "]"
   ]
  },
  {
   "cell_type": "markdown",
   "id": "adverse-track",
   "metadata": {},
   "source": [
    "### Submit the training job"
   ]
  },
  {
   "cell_type": "code",
   "execution_count": null,
   "id": "accomplished-timing",
   "metadata": {},
   "outputs": [],
   "source": [
    "if tf.io.gfile.exists(TRAINING_DIR):\n",
    "    print(\"Removing previous training outputs...\")\n",
    "    tf.io.gfile.rmtree(TRAINING_DIR)\n",
    "\n",
    "print(\"Submitting a custom training job...\")\n",
    "job = aip_utils.submit_custom_job(\n",
    "    model_display_name=CUSTOM_MODEL_DISPLAY_NAME,\n",
    "    training_spec=training_spec,\n",
    "    training_dir=TRAINING_DIR,\n",
    ")\n",
    "print(f\"Job {job.name} sbumitted.\")"
   ]
  },
  {
   "cell_type": "markdown",
   "id": "advance-indonesia",
   "metadata": {},
   "source": [
    "### Monitor job state"
   ]
  },
  {
   "cell_type": "code",
   "execution_count": null,
   "id": "golden-certificate",
   "metadata": {},
   "outputs": [],
   "source": [
    "while True:\n",
    "    response = aip_utils.get_custom_training_job_by_uri(job.name)\n",
    "    if response.state.name == 'JOB_STATE_SUCCEEDED':\n",
    "        print(\"Training job completed. - Training Time:\", response.update_time - response.create_time)\n",
    "        break\n",
    "    elif response.state.name == 'JOB_STATE_FAILED':\n",
    "        print(\"Training job failed!\")\n",
    "        break\n",
    "    else:\n",
    "        print(f\"Training job state is: {response.state.name}.\")\n",
    "    time.sleep(60)"
   ]
  },
  {
   "cell_type": "markdown",
   "id": "sound-neighborhood",
   "metadata": {},
   "source": [
    "## 5. Upload exported model to AI Platform Models"
   ]
  },
  {
   "cell_type": "markdown",
   "id": "center-serve",
   "metadata": {},
   "source": [
    "### Prepare the model upload specs"
   ]
  },
  {
   "cell_type": "code",
   "execution_count": null,
   "id": "demonstrated-cheese",
   "metadata": {},
   "outputs": [],
   "source": [
    "exported_model_dir = os.path.join(TRAINING_DIR, 'model')"
   ]
  },
  {
   "cell_type": "code",
   "execution_count": null,
   "id": "directed-frontier",
   "metadata": {},
   "outputs": [],
   "source": [
    "SERVING_RUNTIME='tf2-cpu.2-4'\n",
    "SERVING_IMAGE = f\"gcr.io/cloud-aiplatform/prediction/{SERVING_RUNTIME}:latest\""
   ]
  },
  {
   "cell_type": "markdown",
   "id": "fuzzy-observation",
   "metadata": {},
   "source": [
    "### Upload model"
   ]
  },
  {
   "cell_type": "code",
   "execution_count": null,
   "id": "signal-newton",
   "metadata": {},
   "outputs": [],
   "source": [
    "response = aip_utils.upload_model(\n",
    "    model_display_name=CUSTOM_MODEL_DISPLAY_NAME,\n",
    "    model_artifact_uri=exported_model_dir,\n",
    "    serving_image_uri=SERVING_IMAGE,\n",
    "    predict_schemata=None\n",
    ")"
   ]
  },
  {
   "cell_type": "code",
   "execution_count": null,
   "id": "lyric-control",
   "metadata": {},
   "outputs": [],
   "source": [
    "response.result()"
   ]
  },
  {
   "cell_type": "code",
   "execution_count": null,
   "id": "curious-zimbabwe",
   "metadata": {},
   "outputs": [],
   "source": []
  }
 ],
 "metadata": {
  "environment": {
   "name": "tf2-gpu.2-4.m65",
   "type": "gcloud",
   "uri": "gcr.io/deeplearning-platform-release/tf2-gpu.2-4:m65"
  },
  "kernelspec": {
   "display_name": "Python 3",
   "language": "python",
   "name": "python3"
  },
  "language_info": {
   "codemirror_mode": {
    "name": "ipython",
    "version": 3
   },
   "file_extension": ".py",
   "mimetype": "text/x-python",
   "name": "python",
   "nbconvert_exporter": "python",
   "pygments_lexer": "ipython3",
   "version": "3.7.10"
  }
 },
 "nbformat": 4,
 "nbformat_minor": 5
}
