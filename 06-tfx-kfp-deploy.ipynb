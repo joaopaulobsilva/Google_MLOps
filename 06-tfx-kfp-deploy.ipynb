{
 "cells": [
  {
   "cell_type": "markdown",
   "id": "wired-fitness",
   "metadata": {},
   "source": [
    "## TFX - Deploy Training Pipeline to AI Platform Pipelines\n",
    "\n",
    "The purpose of this notebook is to compile and deploy the TFX pipeline to AI Platform Pipelines. You need to setup [AI Platform Pipelines](https://cloud.google.com/ai-platform/pipelines/docs/setting-up) as a prerequisite, noting the **GKE Cluster Name**, **GKE Cluster Zone**, and the **GKE Namespace** of the Kubeflow pipelines installation. The notebook covers the following tasks:\n",
    "1. Set pipeline configurations\n",
    "2. Build Container Image\n",
    "3. Compile TFX Pipeline\n",
    "4. Deploy the pipeline to AI Platform Pipelines (Hosted KFP)."
   ]
  },
  {
   "cell_type": "markdown",
   "id": "surprising-contract",
   "metadata": {},
   "source": [
    "## Setup"
   ]
  },
  {
   "cell_type": "code",
   "execution_count": null,
   "id": "intimate-windsor",
   "metadata": {},
   "outputs": [],
   "source": [
    "%load_ext autoreload\n",
    "%autoreload 2"
   ]
  },
  {
   "cell_type": "code",
   "execution_count": null,
   "id": "future-crash",
   "metadata": {},
   "outputs": [],
   "source": [
    "import os\n",
    "import tensorflow as tf\n",
    "import logging\n",
    "\n",
    "logging.getLogger().setLevel(logging.INFO)"
   ]
  },
  {
   "cell_type": "code",
   "execution_count": null,
   "id": "dramatic-genius",
   "metadata": {},
   "outputs": [],
   "source": [
    "PROJECT = 'ksalama-cloudml' # Change to your project Id.\n",
    "REGION = 'us-central1'\n",
    "BUCKET = 'ksalama-cloudml-us' # Change to your bucket."
   ]
  },
  {
   "cell_type": "markdown",
   "id": "numeric-bicycle",
   "metadata": {},
   "source": [
    "## 1. Set pipeline configurations"
   ]
  },
  {
   "cell_type": "code",
   "execution_count": null,
   "id": "compound-robert",
   "metadata": {},
   "outputs": [],
   "source": [
    "os.environ[\"DATASET_DISPLAY_NAME\"] = 'chicago_taxi_tips'\n",
    "os.environ[\"PROJECT\"] = PROJECT\n",
    "os.environ[\"REGION\"] = REGION\n",
    "os.environ[\"GCS_LOCATION\"] = f\"gs://{BUCKET}/ucaip_demo/chicago_taxi/pipelines_kfp_runner\"\n",
    "os.environ[\"TRAIN_LIMIT\"] = \"85000\"\n",
    "os.environ[\"TEST_LIMIT\"] = \"15000\"\n",
    "os.environ[\"BEAM_RUNNER\"] = \"DataflowRunner\"\n",
    "os.environ[\"TRAINING_RUNNER\"] = \"caip\"\n",
    "\n",
    "os.environ[\"GKE_CLUSTER_NAME\"] = \"ksalama-cloudml-dev-01\" # Change to your GKE cluser name.\n",
    "os.environ[\"GKE_CLUSTER_ZONE\"] = \"europe-west2-a\" # Change to your GKE cluser zone.\n",
    "os.environ[\"NAMESPACE\"] = \"kubeflow-pipelines\" # Change to your KFP pipeline nsamespace."
   ]
  },
  {
   "cell_type": "code",
   "execution_count": null,
   "id": "disciplinary-interference",
   "metadata": {},
   "outputs": [],
   "source": [
    "from tfx_pipeline import config\n",
    "for key, value in config.__dict__.items():\n",
    "    if key.isupper(): print(f'{key}: {value}')"
   ]
  },
  {
   "cell_type": "markdown",
   "id": "accessory-imagination",
   "metadata": {},
   "source": [
    "## 2. Build Container Image"
   ]
  },
  {
   "cell_type": "code",
   "execution_count": null,
   "id": "forward-guinea",
   "metadata": {},
   "outputs": [],
   "source": [
    "!echo $IMAGE_URI"
   ]
  },
  {
   "cell_type": "code",
   "execution_count": null,
   "id": "cleared-fruit",
   "metadata": {},
   "outputs": [],
   "source": [
    "!gcloud builds submit --tag $IMAGE_URI . --timeout=15m"
   ]
  },
  {
   "cell_type": "markdown",
   "id": "smooth-proportion",
   "metadata": {},
   "source": [
    "## 3. Compile TFX Pipeline"
   ]
  },
  {
   "cell_type": "code",
   "execution_count": null,
   "id": "unsigned-vector",
   "metadata": {},
   "outputs": [],
   "source": [
    "!rm $PIPELINE_NAME.tar.gz"
   ]
  },
  {
   "cell_type": "code",
   "execution_count": null,
   "id": "threatened-trader",
   "metadata": {},
   "outputs": [],
   "source": [
    "!tfx pipeline compile \\\n",
    "    --engine=kubeflow \\\n",
    "    --pipeline_path=tfx_pipeline/kfp_runner.py"
   ]
  },
  {
   "cell_type": "markdown",
   "id": "cathedral-venture",
   "metadata": {},
   "source": [
    "## 4. Deploy the Compiled Pipeline to KFP"
   ]
  },
  {
   "cell_type": "code",
   "execution_count": null,
   "id": "still-reach",
   "metadata": {},
   "outputs": [],
   "source": [
    "%%bash\n",
    "\n",
    "gcloud container clusters get-credentials ${GKE_CLUSTER_NAME} --zone ${GKE_CLUSTER_ZONE}\n",
    "export KFP_ENDPOINT=$(kubectl describe configmap inverse-proxy-config -n ${NAMESPACE} | grep \"googleusercontent.com\")\n",
    "\n",
    "kfp --namespace=${NAMESPACE} --endpoint=${KFP_ENDPOINT} \\\n",
    "    pipeline upload \\\n",
    "    --pipeline-name=${PIPELINE_NAME} \\\n",
    "    ${PIPELINE_NAME}.tar.gz"
   ]
  },
  {
   "cell_type": "code",
   "execution_count": null,
   "id": "color-albuquerque",
   "metadata": {},
   "outputs": [],
   "source": [
    "!echo $(kubectl describe configmap inverse-proxy-config -n ${NAMESPACE} | grep \"googleusercontent.com\")"
   ]
  },
  {
   "cell_type": "markdown",
   "id": "verified-louisville",
   "metadata": {},
   "source": [
    "![Pipeline execution](kfp-pipeline.png)"
   ]
  },
  {
   "cell_type": "code",
   "execution_count": null,
   "id": "internal-housing",
   "metadata": {},
   "outputs": [],
   "source": []
  }
 ],
 "metadata": {
  "environment": {
   "name": "tf2-gpu.2-4.m65",
   "type": "gcloud",
   "uri": "gcr.io/deeplearning-platform-release/tf2-gpu.2-4:m65"
  },
  "kernelspec": {
   "display_name": "Python 3",
   "language": "python",
   "name": "python3"
  },
  "language_info": {
   "codemirror_mode": {
    "name": "ipython",
    "version": 3
   },
   "file_extension": ".py",
   "mimetype": "text/x-python",
   "name": "python",
   "nbconvert_exporter": "python",
   "pygments_lexer": "ipython3",
   "version": "3.7.10"
  }
 },
 "nbformat": 4,
 "nbformat_minor": 5
}
