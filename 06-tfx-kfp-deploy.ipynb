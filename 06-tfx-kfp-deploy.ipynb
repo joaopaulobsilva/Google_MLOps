{
 "cells": [
  {
   "cell_type": "markdown",
   "id": "nuclear-divorce",
   "metadata": {},
   "source": [
    "## TFX - Deploy Training Pipeline to AI Platform Pipelines\n",
    "\n",
    "You need to setup [AI Platform Pipelines](https://cloud.google.com/ai-platform/pipelines/docs/setting-up) as a prerequisite, noting the **GKE Cluster Name**, **GKE Cluster Zone**, and the **GKE Namespace** of the Kubeflow pipelines installation."
   ]
  },
  {
   "cell_type": "markdown",
   "id": "representative-converter",
   "metadata": {},
   "source": [
    "## Setup"
   ]
  },
  {
   "cell_type": "code",
   "execution_count": null,
   "id": "funky-hepatitis",
   "metadata": {},
   "outputs": [],
   "source": [
    "%load_ext autoreload\n",
    "%autoreload 2"
   ]
  },
  {
   "cell_type": "code",
   "execution_count": null,
   "id": "happy-hydrogen",
   "metadata": {},
   "outputs": [],
   "source": [
    "import os\n",
    "import tensorflow as tf\n",
    "import logging\n",
    "\n",
    "logging.getLogger().setLevel(logging.INFO)"
   ]
  },
  {
   "cell_type": "code",
   "execution_count": null,
   "id": "mineral-alabama",
   "metadata": {},
   "outputs": [],
   "source": [
    "PROJECT = 'ksalama-cloudml'\n",
    "REGION = 'us-central1'\n",
    "BUCKET = 'ksalama-cloudml-us'\n",
    "\n",
    "LOCAL_WORKSPACE = '_workspace'\n",
    "if tf.io.gfile.exists(LOCAL_WORKSPACE):\n",
    "    tf.io.gfile.rmtree(LOCAL_WORKSPACE)"
   ]
  },
  {
   "cell_type": "markdown",
   "id": "german-franchise",
   "metadata": {},
   "source": [
    "## Set pipeline configurations"
   ]
  },
  {
   "cell_type": "code",
   "execution_count": null,
   "id": "constant-mambo",
   "metadata": {},
   "outputs": [],
   "source": [
    "os.environ[\"DATASET_DISPLAYNAME\"] = 'chicago_taxi_tips'\n",
    "os.environ[\"PROJECT\"] = PROJECT\n",
    "os.environ[\"REGION\"] = REGION\n",
    "os.environ[\"GCS_LOCATION\"] = f\"gs://{BUCKET}/ucaip_demo/chicago_taxi/kfp_runner\"\n",
    "os.environ[\"TRAIN_LIMIT\"] = \"85000\"\n",
    "os.environ[\"TEST_LIMIT\"] = \"15000\"\n",
    "os.environ[\"BEAM_RUNNER\"] = \"DirectRunner\"\n",
    "os.environ[\"TRAINING_RUNNER\"] = \"local\"\n",
    "\n",
    "os.environ[\"GKE_CLUSTER_NAME\"] = \"ksalama-cloudml-dev-01\"\n",
    "os.environ[\"GKE_CLUSTER_ZONE\"] = \"europe-west2-a\"\n",
    "os.environ[\"NAMESPACE\"] = \"kubeflow-pipelines\""
   ]
  },
  {
   "cell_type": "code",
   "execution_count": null,
   "id": "lesser-payment",
   "metadata": {},
   "outputs": [],
   "source": [
    "from tfx_pipeline import config\n",
    "for key, value in config.__dict__.items():\n",
    "    if key.isupper(): print(f'{key}: {value}')"
   ]
  },
  {
   "cell_type": "markdown",
   "id": "green-missouri",
   "metadata": {},
   "source": [
    "## Build Container Image"
   ]
  },
  {
   "cell_type": "code",
   "execution_count": null,
   "id": "internal-greek",
   "metadata": {},
   "outputs": [],
   "source": [
    "!echo $IMAGE_URI"
   ]
  },
  {
   "cell_type": "code",
   "execution_count": null,
   "id": "worthy-commodity",
   "metadata": {},
   "outputs": [],
   "source": [
    "!gcloud builds submit --tag $IMAGE_URI . --timeout=15m"
   ]
  },
  {
   "cell_type": "markdown",
   "id": "extraordinary-little",
   "metadata": {},
   "source": [
    "## Compile TFX Pipeline"
   ]
  },
  {
   "cell_type": "code",
   "execution_count": null,
   "id": "sustained-think",
   "metadata": {},
   "outputs": [],
   "source": [
    "!rm $PIPELINE_NAME.tar.gz"
   ]
  },
  {
   "cell_type": "code",
   "execution_count": null,
   "id": "sweet-arcade",
   "metadata": {},
   "outputs": [],
   "source": [
    "!tfx pipeline compile \\\n",
    "    --engine=kubeflow \\\n",
    "    --pipeline_path=tfx_pipeline/kfp_runner.py"
   ]
  },
  {
   "cell_type": "markdown",
   "id": "color-gathering",
   "metadata": {},
   "source": [
    "## Deploy the Compiled Pipeline to KFP"
   ]
  },
  {
   "cell_type": "code",
   "execution_count": null,
   "id": "attached-sample",
   "metadata": {},
   "outputs": [],
   "source": [
    "%%bash\n",
    "\n",
    "gcloud container clusters get-credentials ${GKE_CLUSTER_NAME} --zone ${GKE_CLUSTER_ZONE}\n",
    "export KFP_ENDPOINT=$(kubectl describe configmap inverse-proxy-config -n ${NAMESPACE} | grep \"googleusercontent.com\")\n",
    "\n",
    "kfp --namespace=${NAMESPACE} --endpoint=${KFP_ENDPOINT} \\\n",
    "    pipeline upload \\\n",
    "    --pipeline-name=${PIPELINE_NAME} \\\n",
    "    ${PIPELINE_NAME}.tar.gz"
   ]
  },
  {
   "cell_type": "code",
   "execution_count": null,
   "id": "central-september",
   "metadata": {},
   "outputs": [],
   "source": [
    "!echo $(kubectl describe configmap inverse-proxy-config -n ${NAMESPACE} | grep \"googleusercontent.com\")"
   ]
  },
  {
   "cell_type": "markdown",
   "id": "unknown-coordinate",
   "metadata": {},
   "source": [
    "![Pipeline execution](kfp-pipeline.png)"
   ]
  },
  {
   "cell_type": "code",
   "execution_count": null,
   "id": "broad-cooperative",
   "metadata": {},
   "outputs": [],
   "source": []
  }
 ],
 "metadata": {
  "environment": {
   "name": "tf2-gpu.2-4.m65",
   "type": "gcloud",
   "uri": "gcr.io/deeplearning-platform-release/tf2-gpu.2-4:m65"
  },
  "kernelspec": {
   "display_name": "Python 3",
   "language": "python",
   "name": "python3"
  },
  "language_info": {
   "codemirror_mode": {
    "name": "ipython",
    "version": 3
   },
   "file_extension": ".py",
   "mimetype": "text/x-python",
   "name": "python",
   "nbconvert_exporter": "python",
   "pygments_lexer": "ipython3",
   "version": "3.7.10"
  }
 },
 "nbformat": 4,
 "nbformat_minor": 5
}
