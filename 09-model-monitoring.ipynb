{
 "cells": [
  {
   "cell_type": "markdown",
   "id": "injured-fabric",
   "metadata": {},
   "source": [
    "# 09 - Model Monitoring\n",
    "\n",
    "This notebook covers configuring model monitoring jobs for skew and dirft detection:\n",
    "1. Set skew and drift threshold.\n",
    "2. Create a monitoring job for all the models under and endpoint.\n",
    "3. List the monitoring jobs.\n",
    "4. Pause and delete the monitoring job."
   ]
  },
  {
   "cell_type": "markdown",
   "id": "attended-substance",
   "metadata": {},
   "source": [
    "## Setup"
   ]
  },
  {
   "cell_type": "code",
   "execution_count": null,
   "id": "announced-budget",
   "metadata": {},
   "outputs": [],
   "source": [
    "%load_ext autoreload\n",
    "%autoreload 2?"
   ]
  },
  {
   "cell_type": "code",
   "execution_count": null,
   "id": "cardiac-orchestra",
   "metadata": {},
   "outputs": [],
   "source": [
    "PROJECT = 'ksalama-cloudml' # Change to your project Id.\n",
    "REGION = 'us-central1'\n",
    "BUCKET = 'ksalama-cloudml-us' # Change to your bucket.\n",
    "DATASET_DISPLAY_NAME = 'chicago_taxi_tips'\n",
    "ENDPOINT_DISPLAY_NAME = 'chicago_taxi_tips_classifier'\n",
    "MONITORING_JOB_NAME = f\"monitor_{ENDPOINT_DISPLAY_NAME}\"\n",
    "NOTIFY_EMAILS = \"khalid.m.salama@gmail.com\"\n",
    "\n",
    "LOG_SAMPLE_RATE = 0.8\n",
    "MONITOR_INTERVAL = 3600\n",
    "TARGET = 'tip_bin'"
   ]
  },
  {
   "cell_type": "code",
   "execution_count": null,
   "id": "stretch-anniversary",
   "metadata": {},
   "outputs": [],
   "source": [
    "from src.utils.ucaip_utils import AIPUtils\n",
    "vertex_utils = AIPUtils(PROJECT, REGION)"
   ]
  },
  {
   "cell_type": "markdown",
   "id": "sonic-trailer",
   "metadata": {},
   "source": [
    "## 1. Set Skew and Drift Thresholds"
   ]
  },
  {
   "cell_type": "code",
   "execution_count": null,
   "id": "geographic-breed",
   "metadata": {},
   "outputs": [],
   "source": [
    "SKEW_THRESHOLDS = {\n",
    "    'trip_month': 0.3,\n",
    "    'trip_day': 0.3,\n",
    "    'trip_day_of_week': 0.3,\n",
    "    'trip_hour': 0.3,\n",
    "    'trip_seconds': 0.3,\n",
    "    'trip_miles': 0.3,\n",
    "    'payment_type': 0.3,\n",
    "    'pickup_grid': 0.3,\n",
    "    'dropoff_grid': 0.3,\n",
    "    'euclidean': 0.3,\n",
    "    'loc_cross': 0.3,  \n",
    "}\n",
    "\n",
    "DIRFT_THRESHOLDS = {\n",
    "    'trip_month': 0.3,\n",
    "    'trip_day': 0.3,\n",
    "    'trip_day_of_week': 0.3,\n",
    "    'trip_hour': 0.3,\n",
    "    'trip_seconds': 0.3,\n",
    "    'trip_miles': 0.3,\n",
    "    'payment_type': 0.3,\n",
    "    'pickup_grid': 0.3,\n",
    "    'dropoff_grid': 0.3,\n",
    "    'euclidean': 0.3,\n",
    "    'loc_cross': 0.3,  \n",
    "}"
   ]
  },
  {
   "cell_type": "markdown",
   "id": "roman-dylan",
   "metadata": {},
   "source": [
    "## 2. Create Monitoring Job"
   ]
  },
  {
   "cell_type": "code",
   "execution_count": null,
   "id": "intense-romania",
   "metadata": {},
   "outputs": [],
   "source": [
    "monitoring_job = vertex_utils.create_monitoring_job(\n",
    "    job_name=MONITORING_JOB_NAME,\n",
    "    dataset_display_name=DATASET_DISPLAY_NAME,\n",
    "    endpoint_display_name=ENDPOINT_DISPLAY_NAME,\n",
    "    target_field=TARGET,\n",
    "    log_sample_rate=LOG_SAMPLE_RATE,\n",
    "    monitor_interval=MONITOR_INTERVAL,\n",
    "    skew_thresholds=SKEW_THRESHOLDS, \n",
    "    drift_thresholds=DIRFT_THRESHOLDS,\n",
    "    notify_emails=NOTIFY_EMAILS\n",
    ")\n",
    "\n",
    "monitoring_job"
   ]
  },
  {
   "cell_type": "markdown",
   "id": "employed-charity",
   "metadata": {},
   "source": [
    "## 3. List Monitoring Jobs"
   ]
  },
  {
   "cell_type": "code",
   "execution_count": null,
   "id": "metropolitan-lunch",
   "metadata": {},
   "outputs": [],
   "source": [
    "vertex_utils.list_monitoring_jobs()"
   ]
  },
  {
   "cell_type": "markdown",
   "id": "expensive-level",
   "metadata": {},
   "source": [
    "## 4. Pause Monitoring Job"
   ]
  },
  {
   "cell_type": "code",
   "execution_count": null,
   "id": "threaded-creator",
   "metadata": {},
   "outputs": [],
   "source": [
    "vertex_utils.pause_monitoring_job(MONITORING_JOB_NAME)"
   ]
  },
  {
   "cell_type": "markdown",
   "id": "inclusive-franchise",
   "metadata": {},
   "source": [
    "## Delete Monitoring Job"
   ]
  },
  {
   "cell_type": "code",
   "execution_count": null,
   "id": "behavioral-buffalo",
   "metadata": {},
   "outputs": [],
   "source": [
    "vertex_utils.delete_monitoring_job(MONITORING_JOB_NAME)"
   ]
  },
  {
   "cell_type": "code",
   "execution_count": null,
   "id": "public-authentication",
   "metadata": {},
   "outputs": [],
   "source": []
  }
 ],
 "metadata": {
  "environment": {
   "name": "tf2-gpu.2-4.m65",
   "type": "gcloud",
   "uri": "gcr.io/deeplearning-platform-release/tf2-gpu.2-4:m65"
  },
  "kernelspec": {
   "display_name": "Python 3",
   "language": "python",
   "name": "python3"
  },
  "language_info": {
   "codemirror_mode": {
    "name": "ipython",
    "version": 3
   },
   "file_extension": ".py",
   "mimetype": "text/x-python",
   "name": "python",
   "nbconvert_exporter": "python",
   "pygments_lexer": "ipython3",
   "version": "3.7.10"
  }
 },
 "nbformat": 4,
 "nbformat_minor": 5
}
