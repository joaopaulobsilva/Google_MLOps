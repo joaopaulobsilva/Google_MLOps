{
 "cells": [
  {
   "cell_type": "markdown",
   "id": "bright-preference",
   "metadata": {},
   "source": [
    "# Setup Environment"
   ]
  },
  {
   "cell_type": "code",
   "execution_count": null,
   "id": "stupid-leadership",
   "metadata": {},
   "outputs": [],
   "source": [
    "!gsutil cp gs://cloud-aiplatform-pipelines/releases/20210304/aiplatform_pipelines_client-0.1.0.caip20210304-py3-none-any.whl ."
   ]
  },
  {
   "cell_type": "code",
   "execution_count": null,
   "id": "humanitarian-windsor",
   "metadata": {},
   "outputs": [],
   "source": [
    "!pip install --user tfx==0.27.0 --upgrade"
   ]
  },
  {
   "cell_type": "code",
   "execution_count": null,
   "id": "precise-minneapolis",
   "metadata": {},
   "outputs": [],
   "source": [
    "!pip install --user aiplatform_pipelines_client-0.1.0.caip20210304-py3-none-any.whl"
   ]
  },
  {
   "cell_type": "code",
   "execution_count": null,
   "id": "overall-adaptation",
   "metadata": {},
   "outputs": [],
   "source": [
    "!pip show tfx"
   ]
  },
  {
   "cell_type": "code",
   "execution_count": null,
   "id": "organized-threshold",
   "metadata": {},
   "outputs": [],
   "source": [
    "!pip install -r requirements.txt "
   ]
  },
  {
   "cell_type": "code",
   "execution_count": null,
   "id": "dedicated-hydrogen",
   "metadata": {},
   "outputs": [],
   "source": [
    "!pip show tensorflow"
   ]
  }
 ],
 "metadata": {
  "environment": {
   "name": "tf2-gpu.2-4.m65",
   "type": "gcloud",
   "uri": "gcr.io/deeplearning-platform-release/tf2-gpu.2-4:m65"
  },
  "kernelspec": {
   "display_name": "Python 3",
   "language": "python",
   "name": "python3"
  },
  "language_info": {
   "codemirror_mode": {
    "name": "ipython",
    "version": 3
   },
   "file_extension": ".py",
   "mimetype": "text/x-python",
   "name": "python",
   "nbconvert_exporter": "python",
   "pygments_lexer": "ipython3",
   "version": "3.7.10"
  }
 },
 "nbformat": 4,
 "nbformat_minor": 5
}
