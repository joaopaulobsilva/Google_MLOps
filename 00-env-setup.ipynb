{
 "cells": [
  {
   "cell_type": "markdown",
   "id": "incorporated-ghost",
   "metadata": {},
   "source": [
    "# Setup Environment"
   ]
  },
  {
   "cell_type": "code",
   "execution_count": null,
   "id": "joint-parent",
   "metadata": {},
   "outputs": [],
   "source": [
    "PATH=%env PATH\n",
    "%env PATH={PATH}:/home/jupyter/.local/bin"
   ]
  },
  {
   "cell_type": "markdown",
   "id": "spiritual-reference",
   "metadata": {},
   "source": [
    "Download managed ML piplines SDK"
   ]
  },
  {
   "cell_type": "code",
   "execution_count": null,
   "id": "bearing-battle",
   "metadata": {},
   "outputs": [],
   "source": [
    "!pip install --user pip==20.2.4 --upgrade"
   ]
  },
  {
   "cell_type": "code",
   "execution_count": null,
   "id": "correct-newark",
   "metadata": {},
   "outputs": [],
   "source": [
    "!gsutil cp gs://cloud-aiplatform-pipelines/releases/20210304/aiplatform_pipelines_client-0.1.0.caip20210304-py3-none-any.whl ."
   ]
  },
  {
   "cell_type": "markdown",
   "id": "boolean-gibson",
   "metadata": {},
   "source": [
    "Install latest TFX version"
   ]
  },
  {
   "cell_type": "code",
   "execution_count": null,
   "id": "aggressive-bottle",
   "metadata": {},
   "outputs": [],
   "source": [
    "!pip install --user tfx==0.27.0 --upgrade"
   ]
  },
  {
   "cell_type": "markdown",
   "id": "collectible-render",
   "metadata": {},
   "source": [
    "Install managed ML piplines SDK"
   ]
  },
  {
   "cell_type": "code",
   "execution_count": null,
   "id": "painful-bottom",
   "metadata": {},
   "outputs": [],
   "source": [
    "!pip install --user aiplatform_pipelines_client-0.1.0.caip20210304-py3-none-any.whl"
   ]
  },
  {
   "cell_type": "code",
   "execution_count": null,
   "id": "operational-party",
   "metadata": {},
   "outputs": [],
   "source": [
    "!pip show tfx"
   ]
  },
  {
   "cell_type": "markdown",
   "id": "distinguished-motion",
   "metadata": {},
   "source": [
    "We install TensorFlow 2.3 as this is the latest available [pre-built container](https://cloud.google.com/ai-platform-unified/docs/predictions/pre-built-containers)"
   ]
  },
  {
   "cell_type": "code",
   "execution_count": null,
   "id": "suspended-reaction",
   "metadata": {},
   "outputs": [],
   "source": [
    "!pip install --user -r requirements.txt "
   ]
  },
  {
   "cell_type": "code",
   "execution_count": null,
   "id": "afraid-basement",
   "metadata": {},
   "outputs": [],
   "source": [
    "!pip show tensorflow"
   ]
  },
  {
   "cell_type": "code",
   "execution_count": null,
   "id": "narrow-attribute",
   "metadata": {},
   "outputs": [],
   "source": []
  }
 ],
 "metadata": {
  "environment": {
   "name": "tf2-gpu.2-4.m65",
   "type": "gcloud",
   "uri": "gcr.io/deeplearning-platform-release/tf2-gpu.2-4:m65"
  },
  "kernelspec": {
   "display_name": "Python 3",
   "language": "python",
   "name": "python3"
  },
  "language_info": {
   "codemirror_mode": {
    "name": "ipython",
    "version": 3
   },
   "file_extension": ".py",
   "mimetype": "text/x-python",
   "name": "python",
   "nbconvert_exporter": "python",
   "pygments_lexer": "ipython3",
   "version": "3.7.10"
  }
 },
 "nbformat": 4,
 "nbformat_minor": 5
}
