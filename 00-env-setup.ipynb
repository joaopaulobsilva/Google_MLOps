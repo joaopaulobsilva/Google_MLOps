{
 "cells": [
  {
   "cell_type": "markdown",
   "id": "automotive-saturn",
   "metadata": {},
   "source": [
    "# Setup Environment"
   ]
  },
  {
   "cell_type": "markdown",
   "id": "tribal-cameroon",
   "metadata": {},
   "source": [
    "Download managed ML piplines SDK"
   ]
  },
  {
   "cell_type": "code",
   "execution_count": null,
   "id": "attractive-single",
   "metadata": {},
   "outputs": [],
   "source": [
    "!gsutil cp gs://cloud-aiplatform-pipelines/releases/20210304/aiplatform_pipelines_client-0.1.0.caip20210304-py3-none-any.whl ."
   ]
  },
  {
   "cell_type": "markdown",
   "id": "exact-government",
   "metadata": {},
   "source": [
    "Install latest TFX version"
   ]
  },
  {
   "cell_type": "code",
   "execution_count": null,
   "id": "expected-power",
   "metadata": {},
   "outputs": [],
   "source": [
    "!pip install --user tfx==0.27.0 --upgrade"
   ]
  },
  {
   "cell_type": "markdown",
   "id": "exceptional-precipitation",
   "metadata": {},
   "source": [
    "Install managed ML piplines SDK"
   ]
  },
  {
   "cell_type": "code",
   "execution_count": null,
   "id": "corrected-saver",
   "metadata": {},
   "outputs": [],
   "source": [
    "!pip install --user aiplatform_pipelines_client-0.1.0.caip20210304-py3-none-any.whl"
   ]
  },
  {
   "cell_type": "code",
   "execution_count": null,
   "id": "better-raise",
   "metadata": {},
   "outputs": [],
   "source": [
    "!pip show tfx"
   ]
  },
  {
   "cell_type": "markdown",
   "id": "active-bridal",
   "metadata": {},
   "source": [
    "We install TensorFlow 2.3 as this is the latest available [pre-built container](https://cloud.google.com/ai-platform-unified/docs/predictions/pre-built-containers)"
   ]
  },
  {
   "cell_type": "code",
   "execution_count": null,
   "id": "quality-still",
   "metadata": {},
   "outputs": [],
   "source": [
    "!pip install -r requirements.txt "
   ]
  },
  {
   "cell_type": "code",
   "execution_count": null,
   "id": "fixed-secret",
   "metadata": {},
   "outputs": [],
   "source": [
    "!pip show tensorflow"
   ]
  }
 ],
 "metadata": {
  "environment": {
   "name": "tf2-gpu.2-4.m65",
   "type": "gcloud",
   "uri": "gcr.io/deeplearning-platform-release/tf2-gpu.2-4:m65"
  },
  "kernelspec": {
   "display_name": "Python 3",
   "language": "python",
   "name": "python3"
  },
  "language_info": {
   "codemirror_mode": {
    "name": "ipython",
    "version": 3
   },
   "file_extension": ".py",
   "mimetype": "text/x-python",
   "name": "python",
   "nbconvert_exporter": "python",
   "pygments_lexer": "ipython3",
   "version": "3.7.10"
  }
 },
 "nbformat": 4,
 "nbformat_minor": 5
}
