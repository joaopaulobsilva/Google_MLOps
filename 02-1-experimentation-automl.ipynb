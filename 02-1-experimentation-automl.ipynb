{
 "cells": [
  {
   "cell_type": "markdown",
   "id": "developed-galaxy",
   "metadata": {},
   "source": [
    "# 02.1 - ML Experimentation with AutoML\n",
    "\n",
    "The purpose of this notebook is to use [AutoML Tables](https://cloud.google.com/automl-tables) to train a classifier \n",
    "to predict whether a given trip will result in a tip > 20%. The notebook covers the following tasks:\n",
    "\n",
    "1. Prepare and submit an AutoMl Tables training job.\n",
    "2. Retrieve the uploaded model by the AutoMl Tables.\n",
    "3. Retrieve the evaluation results of the AutoML Table.\n"
   ]
  },
  {
   "cell_type": "markdown",
   "id": "frequent-boston",
   "metadata": {},
   "source": [
    "## Setup"
   ]
  },
  {
   "cell_type": "code",
   "execution_count": null,
   "id": "internal-department",
   "metadata": {},
   "outputs": [],
   "source": [
    "%load_ext autoreload\n",
    "%autoreload 2?"
   ]
  },
  {
   "cell_type": "code",
   "execution_count": null,
   "id": "several-hands",
   "metadata": {},
   "outputs": [],
   "source": [
    "import os\n",
    "import time\n",
    "import pandas as pd\n",
    "from datetime import datetime\n",
    "import tensorflow_data_validation as tfdv\n",
    "from tensorflow_transform.tf_metadata import schema_utils"
   ]
  },
  {
   "cell_type": "code",
   "execution_count": null,
   "id": "electrical-border",
   "metadata": {},
   "outputs": [],
   "source": [
    "PROJECT = 'ksalama-cloudml'  # Change to your project Id.\n",
    "REGION = 'us-central1'\n",
    "\n",
    "DATASET_DISPLAY_NAME = 'chicago_taxi_tips'\n",
    "AUTOML_MODEL_DISPLAY_NAME = f'{DATASET_DISPLAY_NAME}_classifier_automl'\n",
    "\n",
    "RAW_SCHEMA_DIR = 'model_src/raw_schema/schema.pbtxt'"
   ]
  },
  {
   "cell_type": "code",
   "execution_count": null,
   "id": "sized-staff",
   "metadata": {},
   "outputs": [],
   "source": [
    "from utils.ucaip_utils import AIPUtils\n",
    "aip_utils = AIPUtils(PROJECT, REGION)"
   ]
  },
  {
   "cell_type": "markdown",
   "id": "supposed-message",
   "metadata": {},
   "source": [
    "## 1. Train a classifier using AutoML Tables"
   ]
  },
  {
   "cell_type": "markdown",
   "id": "intermediate-atlas",
   "metadata": {},
   "source": [
    "### Load raw schema"
   ]
  },
  {
   "cell_type": "code",
   "execution_count": null,
   "id": "irish-pennsylvania",
   "metadata": {},
   "outputs": [],
   "source": [
    "target_column = 'tip_bin'\n",
    "data_split_column = 'data_split'\n",
    "exclude_cloumns = ['trip_start_timestamp']\n",
    "\n",
    "source_raw_schema = tfdv.load_schema_text(RAW_SCHEMA_DIR)\n",
    "raw_feature_spec = schema_utils.schema_as_feature_spec(source_raw_schema).feature_spec\n",
    "input_columns = [key for key in raw_feature_spec if key not in exclude_cloumns]\n",
    "input_columns"
   ]
  },
  {
   "cell_type": "markdown",
   "id": "objective-mechanics",
   "metadata": {},
   "source": [
    "### Create training task inputs spec"
   ]
  },
  {
   "cell_type": "code",
   "execution_count": null,
   "id": "interesting-terror",
   "metadata": {},
   "outputs": [],
   "source": [
    "transformations = [\n",
    "    {\"auto\": {\"column_name\": column}} \n",
    "    for column in input_columns\n",
    "]\n",
    "\n",
    "training_task_inputs_spec = {\n",
    "    \"targetColumn\": target_column,\n",
    "    \"predictionType\": \"classification\",\n",
    "    \"transformations\": transformations,\n",
    "    \"trainBudgetMilliNodeHours\": 1,\n",
    "    \"disableEarlyStopping\": False,\n",
    "    \"optimizationObjective\": \"minimize-log-loss\",\n",
    "}\n",
    "\n",
    "predefined_split = {\n",
    "    \"key\": data_split_column \n",
    "}"
   ]
  },
  {
   "cell_type": "markdown",
   "id": "three-destiny",
   "metadata": {},
   "source": [
    "### Submit AutoML Tables training job"
   ]
  },
  {
   "cell_type": "code",
   "execution_count": null,
   "id": "italic-banks",
   "metadata": {},
   "outputs": [],
   "source": [
    "training_job = aip_utils.train_automl_table(\n",
    "        dataset_display_name=DATASET_DISPLAY_NAME,\n",
    "        model_display_name=AUTOML_MODEL_DISPLAY_NAME+\"s\",\n",
    "        training_task_inputs_spec=training_task_inputs_spec,\n",
    "        predefined_split=predefined_split\n",
    ")"
   ]
  },
  {
   "cell_type": "markdown",
   "id": "prerequisite-physics",
   "metadata": {},
   "source": [
    "## Monitor job state"
   ]
  },
  {
   "cell_type": "code",
   "execution_count": null,
   "id": "distributed-possession",
   "metadata": {},
   "outputs": [],
   "source": [
    "while True:\n",
    "    response = aip_utils.get_automl_training_job_by_uri(training_job.name)\n",
    "    if response.state.name == 'PIPELINE_STATE_SUCCEEDED':\n",
    "        print(\"Training job completed. - Training Time:\", response.update_time - response.create_time)\n",
    "        break\n",
    "    elif response.state.name == 'PIPELINE_STATE_FAILD':\n",
    "        print(\"Training job failed!\")\n",
    "        break\n",
    "    else:\n",
    "        print(f\"Training job state is: {response.state.name}.\")\n",
    "    time.sleep(60)"
   ]
  },
  {
   "cell_type": "code",
   "execution_count": null,
   "id": "particular-reviewer",
   "metadata": {},
   "outputs": [],
   "source": [
    "response.state.name"
   ]
  },
  {
   "cell_type": "markdown",
   "id": "smaller-karma",
   "metadata": {},
   "source": [
    "## 2. Retrieve the Uploaded Model"
   ]
  },
  {
   "cell_type": "code",
   "execution_count": null,
   "id": "fluid-wireless",
   "metadata": {},
   "outputs": [],
   "source": [
    "model = aip_utils.get_model_by_display_name(AUTOML_MODEL_DISPLAY_NAME)\n",
    "model"
   ]
  },
  {
   "cell_type": "markdown",
   "id": "selected-option",
   "metadata": {},
   "source": [
    "## 4. Get Evaluation Metrics"
   ]
  },
  {
   "cell_type": "code",
   "execution_count": null,
   "id": "structural-athens",
   "metadata": {},
   "outputs": [],
   "source": [
    "evaluation_results = aip_utils.get_evaluation_results_by_model_display_name(\n",
    "    AUTOML_MODEL_DISPLAY_NAME)\n",
    "evaluation_results"
   ]
  },
  {
   "cell_type": "code",
   "execution_count": null,
   "id": "narrow-xerox",
   "metadata": {},
   "outputs": [],
   "source": [
    "metrics = list(evaluation_results)[0].metrics"
   ]
  },
  {
   "cell_type": "code",
   "execution_count": null,
   "id": "sunrise-national",
   "metadata": {},
   "outputs": [],
   "source": [
    "list(metrics.keys())"
   ]
  },
  {
   "cell_type": "code",
   "execution_count": null,
   "id": "acting-editing",
   "metadata": {},
   "outputs": [],
   "source": [
    "print(\"Log loss:\", metrics['logLoss'])\n",
    "print(\"AUC - PRC:\", metrics['auPrc'])\n",
    "print(\"AUC - ROC:\", metrics['auRoc'])"
   ]
  },
  {
   "cell_type": "code",
   "execution_count": null,
   "id": "speaking-comfort",
   "metadata": {},
   "outputs": [],
   "source": [
    "entries = metrics['confusionMatrix']['rows']\n",
    "\n",
    "print(\"TN:\", entries[0][0])\n",
    "print(\"FP:\", entries[0][1])\n",
    "print(\"FN:\", entries[1][0])\n",
    "print(\"TP:\", entries[1][1])\n",
    "\n",
    "total = sum(entries[0]) + sum(entries[1])\n",
    "accuracy = (entries[0][0] + entries[1][1]) / total\n",
    "\n",
    "print(f\"Accuracy: {round(accuracy * 100, 2)}%\")"
   ]
  },
  {
   "cell_type": "code",
   "execution_count": null,
   "id": "bigger-jacksonville",
   "metadata": {},
   "outputs": [],
   "source": [
    "confidence_metrics = list(evaluation_results)[0].metrics['confidenceMetrics']\n",
    "list(confidence_metrics[-1].keys())"
   ]
  },
  {
   "cell_type": "code",
   "execution_count": null,
   "id": "european-software",
   "metadata": {},
   "outputs": [],
   "source": [
    "thresholds = []\n",
    "scores = []\n",
    "\n",
    "for m in confidence_metrics:\n",
    "    entry = dict(m)\n",
    "    f1Score = entry['f1Score']\n",
    "    threshold = 0\n",
    "    \n",
    "    if 'confidenceThreshold' in entry:\n",
    "        threshold = entry['confidenceThreshold']\n",
    "        \n",
    "    thresholds.append(threshold)\n",
    "    scores.append(f1Score)"
   ]
  },
  {
   "cell_type": "code",
   "execution_count": null,
   "id": "advance-batman",
   "metadata": {},
   "outputs": [],
   "source": [
    "pd.DataFrame(\n",
    "    {\n",
    "        'threshold': thresholds,\n",
    "        'score': scores\n",
    "    }\n",
    ").plot(kind='line', x='threshold', y='score')"
   ]
  },
  {
   "cell_type": "code",
   "execution_count": null,
   "id": "altered-infrastructure",
   "metadata": {},
   "outputs": [],
   "source": []
  }
 ],
 "metadata": {
  "environment": {
   "name": "tf2-gpu.2-4.m65",
   "type": "gcloud",
   "uri": "gcr.io/deeplearning-platform-release/tf2-gpu.2-4:m65"
  },
  "kernelspec": {
   "display_name": "Python 3",
   "language": "python",
   "name": "python3"
  },
  "language_info": {
   "codemirror_mode": {
    "name": "ipython",
    "version": 3
   },
   "file_extension": ".py",
   "mimetype": "text/x-python",
   "name": "python",
   "nbconvert_exporter": "python",
   "pygments_lexer": "ipython3",
   "version": "3.7.10"
  }
 },
 "nbformat": 4,
 "nbformat_minor": 5
}
