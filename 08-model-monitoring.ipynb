{
 "cells": [
  {
   "cell_type": "markdown",
   "id": "d20b32e9",
   "metadata": {},
   "source": [
    "# 08 - Model monitoring\n",
    "\n",
    "This notebook covers configuring model monitoring jobs for skew and drift detection:\n",
    "\n",
    "1. Set skew and drift threshold.\n",
    "2. Create a monitoring job for all the models on a `Endpoint` resource.\n",
    "3. List the monitoring jobs.\n",
    "4. List artifacts produced by monitoring job.\n",
    "5. Pause and delete the monitoring job."
   ]
  },
  {
   "cell_type": "markdown",
   "id": "fa9681b5",
   "metadata": {},
   "source": [
    "## Setup"
   ]
  },
  {
   "cell_type": "markdown",
   "id": "2831a5d8",
   "metadata": {},
   "source": [
    "### Import libraries"
   ]
  },
  {
   "cell_type": "code",
   "execution_count": null,
   "id": "a50c1112",
   "metadata": {},
   "outputs": [],
   "source": [
    "import copy\n",
    "from datetime import datetime\n",
    "\n",
    "from google.protobuf.duration_pb2 import Duration\n",
    "from google.cloud import aiplatform as vertex_ai\n",
    "from google.cloud import aiplatform_v1beta1 as vertex_ai_beta"
   ]
  },
  {
   "cell_type": "markdown",
   "id": "080b33ab",
   "metadata": {},
   "source": [
    "### Setup Google Cloud project"
   ]
  },
  {
   "cell_type": "code",
   "execution_count": null,
   "id": "2c9448bf",
   "metadata": {},
   "outputs": [],
   "source": [
    "PROJECT_ID = '[your-project-id]' # Change to your project id.\n",
    "REGION = 'us-central1' # Change to your region.\n",
    "BUCKET = 'gs://[your-bucket-name]' # Change to your bucket name.\n",
    "\n",
    "if PROJECT_ID == \"\" or PROJECT_ID is None or PROJECT_ID == \"[your-project-id]\":\n",
    "    # Get your GCP project id from gcloud\n",
    "    shell_output = !gcloud config list --format 'value(core.project)' 2>/dev/null\n",
    "    PROJECT_ID = shell_output[0]\n",
    "    \n",
    "if BUCKET == \"\" or BUCKET is None or BUCKET == \"gs://[your-bucket-name]\":\n",
    "    # Set your bucket name using your GCP project id\n",
    "    BUCKET = 'gs://' + PROJECT_ID + '-mlops'\n",
    "    # Try to create the bucket if it doesn'exists\n",
    "    ! gsutil mb -l $REGION gs://$BUCKET\n",
    "    print(\"\")\n",
    "\n",
    "PARENT = f\"projects/{PROJECT_ID}/locations/{REGION}\"\n",
    "\n",
    "print(\"Project ID:\", PROJECT_ID)\n",
    "print(\"Region:\", REGION)\n",
    "print(\"Bucket name:\", BUCKET)\n",
    "print(\"Vertex API Parent URI:\", PARENT)"
   ]
  },
  {
   "cell_type": "markdown",
   "id": "3839be9a",
   "metadata": {},
   "source": [
    "### Set configurations"
   ]
  },
  {
   "cell_type": "code",
   "execution_count": null,
   "id": "de48983d",
   "metadata": {},
   "outputs": [],
   "source": [
    "DATASET_DISPLAY_NAME = 'chicago-taxi-tips'\n",
    "ENDPOINT_DISPLAY_NAME = 'chicago-taxi-tips-classifier'\n",
    "MONITORING_JOB_NAME = f\"monitor-{ENDPOINT_DISPLAY_NAME}\"\n",
    "NOTIFY_EMAILS = \"khalid.m.salama@gmail.com\"\n",
    "\n",
    "LOG_SAMPLE_RATE = 0.8\n",
    "MONITOR_INTERVAL = 3600\n",
    "TARGET_FEATURE_NAME = 'tip_bin'"
   ]
  },
  {
   "cell_type": "markdown",
   "id": "cc28e205",
   "metadata": {},
   "source": [
    "## Create a Job Service client"
   ]
  },
  {
   "cell_type": "code",
   "execution_count": null,
   "id": "f4209a06",
   "metadata": {},
   "outputs": [],
   "source": [
    "job_client_beta = vertex_ai_beta.JobServiceClient(\n",
    "    client_options={\"api_endpoint\": f\"{REGION}-aiplatform.googleapis.com\"}\n",
    ")"
   ]
  },
  {
   "cell_type": "markdown",
   "id": "9f823e2c",
   "metadata": {},
   "source": [
    "## 1. Set the skew and drift thresholds"
   ]
  },
  {
   "cell_type": "code",
   "execution_count": null,
   "id": "67875e41",
   "metadata": {},
   "outputs": [],
   "source": [
    "SKEW_THRESHOLDS = {\n",
    "    'trip_month': 0.3,\n",
    "    'trip_day': 0.3,\n",
    "    'trip_day_of_week': 0.3,\n",
    "    'trip_hour': 0.3,\n",
    "    'trip_seconds': 0.3,\n",
    "    'trip_miles': 0.3,\n",
    "    'payment_type': 0.3,\n",
    "    'pickup_grid': 0.3,\n",
    "    'dropoff_grid': 0.3,\n",
    "    'euclidean': 0.3,\n",
    "    'loc_cross': 0.3,  \n",
    "}\n",
    "\n",
    "DIRFT_THRESHOLDS = {\n",
    "    'trip_month': 0.3,\n",
    "    'trip_day': 0.3,\n",
    "    'trip_day_of_week': 0.3,\n",
    "    'trip_hour': 0.3,\n",
    "    'trip_seconds': 0.3,\n",
    "    'trip_miles': 0.3,\n",
    "    'payment_type': 0.3,\n",
    "    'pickup_grid': 0.3,\n",
    "    'dropoff_grid': 0.3,\n",
    "    'euclidean': 0.3,\n",
    "    'loc_cross': 0.3,  \n",
    "}"
   ]
  },
  {
   "cell_type": "markdown",
   "id": "bd21efe0",
   "metadata": {},
   "source": [
    "## 2. Create a monitoring job"
   ]
  },
  {
   "cell_type": "markdown",
   "id": "f7e6ec1a",
   "metadata": {},
   "source": [
    "### Retrieve the `Dataset`, `Model` and `Endpoint` resources to monitor"
   ]
  },
  {
   "cell_type": "code",
   "execution_count": null,
   "id": "2ec0e41c",
   "metadata": {},
   "outputs": [],
   "source": [
    "dataset = vertex_ai.TabularDataset.list(\n",
    "    filter=f\"display_name={DATASET_DISPLAY_NAME}\", \n",
    "    order_by=\"update_time\")[-1]\n",
    "\n",
    "bq_source_uri = dataset.gca_resource.metadata[\"inputConfig\"][\"bigquerySource\"][\"uri\"]\n",
    "    \n",
    "endpoint = vertex_ai.Endpoint.list(\n",
    "    filter=f'display_name={ENDPOINT_DISPLAY_NAME}', \n",
    "    order_by=\"update_time\")[-1]\n",
    "\n",
    "endpoint_uri = endpoint.gca_resource.name\n",
    "\n",
    "model_ids = [model.id for model in endpoint.list_models()]"
   ]
  },
  {
   "cell_type": "markdown",
   "id": "cf6375b8",
   "metadata": {},
   "source": [
    "### Configure the monitoring job"
   ]
  },
  {
   "cell_type": "code",
   "execution_count": null,
   "id": "5dbf98db",
   "metadata": {},
   "outputs": [],
   "source": [
    "skew_thresholds = {\n",
    "    feature: vertex_ai_beta.ThresholdConfig(value=float(value))\n",
    "    for feature, value in SKEW_THRESHOLDS.items()\n",
    "}\n",
    "\n",
    "drift_thresholds = {\n",
    "    feature: vertex_ai_beta.ThresholdConfig(value=float(value))\n",
    "    for feature, value in DIRFT_THRESHOLDS.items()\n",
    "}\n",
    "\n",
    "skew_config = vertex_ai_beta.ModelMonitoringObjectiveConfig.TrainingPredictionSkewDetectionConfig(\n",
    "    skew_thresholds=skew_thresholds\n",
    ")\n",
    "\n",
    "drift_config = vertex_ai_beta.ModelMonitoringObjectiveConfig.PredictionDriftDetectionConfig(\n",
    "    drift_thresholds=drift_thresholds\n",
    ")\n",
    "\n",
    "sampling_config = vertex_ai_beta.SamplingStrategy(\n",
    "    random_sample_config=vertex_ai_beta.SamplingStrategy.RandomSampleConfig(\n",
    "        sample_rate=LOG_SAMPLE_RATE\n",
    "    )\n",
    ")\n",
    "\n",
    "schedule_config = vertex_ai_beta.ModelDeploymentMonitoringScheduleConfig(\n",
    "    monitor_interval=Duration(seconds=MONITOR_INTERVAL)\n",
    ")\n",
    "\n",
    "training_dataset = vertex_ai_beta.ModelMonitoringObjectiveConfig.TrainingDataset(\n",
    "    target_field=TARGET_FEATURE_NAME,\n",
    "    bigquery_source = vertex_ai_beta.types.io.BigQuerySource(\n",
    "        input_uri=bq_source_uri\n",
    "    )\n",
    ")\n",
    "\n",
    "\n",
    "objective_template = vertex_ai_beta.ModelDeploymentMonitoringObjectiveConfig(\n",
    "    objective_config=vertex_ai_beta.ModelMonitoringObjectiveConfig(\n",
    "        training_dataset=training_dataset,\n",
    "        training_prediction_skew_detection_config=skew_config,\n",
    "        prediction_drift_detection_config=drift_config,\n",
    "    )\n",
    ")\n",
    "\n",
    "deployment_objective_configs = []\n",
    "for model_id in model_ids:\n",
    "    objective_config = copy.deepcopy(objective_template)\n",
    "    objective_config.deployed_model_id = model_id\n",
    "    deployment_objective_configs.append(objective_config)\n",
    "\n",
    "alerting_config = vertex_ai_beta.ModelMonitoringAlertConfig(\n",
    "    email_alert_config=vertex_ai_beta.ModelMonitoringAlertConfig.EmailAlertConfig(\n",
    "        user_emails=NOTIFY_EMAILS\n",
    "    )\n",
    ")\n"
   ]
  },
  {
   "cell_type": "markdown",
   "id": "99bc68c9",
   "metadata": {},
   "source": [
    "### Instantiate a monitoring job"
   ]
  },
  {
   "cell_type": "code",
   "execution_count": null,
   "id": "149ff900",
   "metadata": {},
   "outputs": [],
   "source": [
    "job = vertex_ai_beta.ModelDeploymentMonitoringJob(\n",
    "    display_name=MONITORING_JOB_NAME,\n",
    "    endpoint=endpoint_uri,\n",
    "    model_deployment_monitoring_objective_configs=deployment_objective_configs,\n",
    "    logging_sampling_strategy=sampling_config,\n",
    "    model_deployment_monitoring_schedule_config=schedule_config,\n",
    "    model_monitoring_alert_config=alerting_config,\n",
    ")"
   ]
  },
  {
   "cell_type": "markdown",
   "id": "cf0e10a7",
   "metadata": {},
   "source": [
    "### Submit the monitoring job for execution"
   ]
  },
  {
   "cell_type": "code",
   "execution_count": null,
   "id": "278c0137",
   "metadata": {},
   "outputs": [],
   "source": [
    "response = job_client_beta.create_model_deployment_monitoring_job(\n",
    "    parent=PARENT, model_deployment_monitoring_job=job\n",
    ")\n",
    "response"
   ]
  },
  {
   "cell_type": "markdown",
   "id": "b5fb1cba",
   "metadata": {},
   "source": [
    "## 3. Get the monitoring job"
   ]
  },
  {
   "cell_type": "code",
   "execution_count": null,
   "id": "8abc3d85",
   "metadata": {},
   "outputs": [],
   "source": [
    "monitoring_jobs = job_client_beta.list_model_deployment_monitoring_jobs(parent=PARENT)\n",
    "monitoring_job = [entry for entry in monitoring_jobs if entry.display_name == MONITORING_JOB_NAME][0]\n",
    "monitoring_job"
   ]
  },
  {
   "cell_type": "markdown",
   "id": "dd0c9eeb",
   "metadata": {},
   "source": [
    "## 5. Pause the monitoring job"
   ]
  },
  {
   "cell_type": "code",
   "execution_count": null,
   "id": "ba1df5b6",
   "metadata": {},
   "outputs": [],
   "source": [
    "job_client_beta.pause_model_deployment_monitoring_job(name=monitoring_job)"
   ]
  },
  {
   "cell_type": "markdown",
   "id": "207ea561",
   "metadata": {},
   "source": [
    "## Delete the monitoring job"
   ]
  },
  {
   "cell_type": "code",
   "execution_count": null,
   "id": "d333fd72",
   "metadata": {},
   "outputs": [],
   "source": [
    "job_client_beta.delete_model_deployment_monitoring_job(name=monitoring_job)"
   ]
  },
  {
   "cell_type": "code",
   "execution_count": null,
   "id": "4c9f947c",
   "metadata": {},
   "outputs": [],
   "source": []
  }
 ],
 "metadata": {
  "environment": {
   "name": "common-cu110.m71",
   "type": "gcloud",
   "uri": "gcr.io/deeplearning-platform-release/base-cu110:m71"
  },
  "kernelspec": {
   "display_name": "Python 3",
   "language": "python",
   "name": "python3"
  },
  "language_info": {
   "codemirror_mode": {
    "name": "ipython",
    "version": 3
   },
   "file_extension": ".py",
   "mimetype": "text/x-python",
   "name": "python",
   "nbconvert_exporter": "python",
   "pygments_lexer": "ipython3",
   "version": "3.7.10"
  }
 },
 "nbformat": 4,
 "nbformat_minor": 5
}
