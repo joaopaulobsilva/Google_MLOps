{
 "cells": [
  {
   "cell_type": "markdown",
   "id": "collective-heading",
   "metadata": {},
   "source": [
    "# 08 - Model Monitoring\n",
    "\n",
    "This notebook covers configuring model monitoring jobs for skew and dirft detection:\n",
    "1. Set skew and drift threshold.\n",
    "2. Create a monitoring job for all the models under and endpoint.\n",
    "3. List the monitoring jobs.\n",
    "4. List artifacts produced by monitoring job.\n",
    "5. Pause and delete the monitoring job."
   ]
  },
  {
   "cell_type": "markdown",
   "id": "wicked-bookmark",
   "metadata": {},
   "source": [
    "## Setup"
   ]
  },
  {
   "cell_type": "code",
   "execution_count": null,
   "id": "excited-manor",
   "metadata": {},
   "outputs": [],
   "source": [
    "%load_ext autoreload\n",
    "%autoreload 2?"
   ]
  },
  {
   "cell_type": "code",
   "execution_count": null,
   "id": "billion-particle",
   "metadata": {},
   "outputs": [],
   "source": [
    "PROJECT = 'ksalama-cloudml' # Change to your project Id.\n",
    "REGION = 'us-central1'\n",
    "BUCKET = 'ksalama-cloudml-us' # Change to your bucket.\n",
    "DATASET_DISPLAY_NAME = 'chicago-taxi-tips'\n",
    "ENDPOINT_DISPLAY_NAME = 'chicago-taxi-tips-classifier'\n",
    "MONITORING_JOB_NAME = f\"monitor-{ENDPOINT_DISPLAY_NAME}\"\n",
    "NOTIFY_EMAILS = \"khalid.m.salama@gmail.com\"\n",
    "\n",
    "LOG_SAMPLE_RATE = 0.8\n",
    "MONITOR_INTERVAL = 3600\n",
    "TARGET = 'tip_bin'"
   ]
  },
  {
   "cell_type": "code",
   "execution_count": null,
   "id": "animated-replication",
   "metadata": {},
   "outputs": [],
   "source": [
    "from src.utils.vertex_utils import VertexClient\n",
    "vertex_client = VertexClient(PROJECT, REGION)"
   ]
  },
  {
   "cell_type": "markdown",
   "id": "administrative-responsibility",
   "metadata": {},
   "source": [
    "## 1. Set Skew and Drift Thresholds"
   ]
  },
  {
   "cell_type": "code",
   "execution_count": null,
   "id": "banner-hypothetical",
   "metadata": {},
   "outputs": [],
   "source": [
    "SKEW_THRESHOLDS = {\n",
    "    'trip_month': 0.3,\n",
    "    'trip_day': 0.3,\n",
    "    'trip_day_of_week': 0.3,\n",
    "    'trip_hour': 0.3,\n",
    "    'trip_seconds': 0.3,\n",
    "    'trip_miles': 0.3,\n",
    "    'payment_type': 0.3,\n",
    "    'pickup_grid': 0.3,\n",
    "    'dropoff_grid': 0.3,\n",
    "    'euclidean': 0.3,\n",
    "    'loc_cross': 0.3,  \n",
    "}\n",
    "\n",
    "DIRFT_THRESHOLDS = {\n",
    "    'trip_month': 0.3,\n",
    "    'trip_day': 0.3,\n",
    "    'trip_day_of_week': 0.3,\n",
    "    'trip_hour': 0.3,\n",
    "    'trip_seconds': 0.3,\n",
    "    'trip_miles': 0.3,\n",
    "    'payment_type': 0.3,\n",
    "    'pickup_grid': 0.3,\n",
    "    'dropoff_grid': 0.3,\n",
    "    'euclidean': 0.3,\n",
    "    'loc_cross': 0.3,  \n",
    "}"
   ]
  },
  {
   "cell_type": "markdown",
   "id": "lesbian-pharmacology",
   "metadata": {},
   "source": [
    "## 2. Create Monitoring Job"
   ]
  },
  {
   "cell_type": "code",
   "execution_count": null,
   "id": "anonymous-sociology",
   "metadata": {},
   "outputs": [],
   "source": [
    "monitoring_job = vertex_client.create_monitoring_job(\n",
    "    job_name=MONITORING_JOB_NAME,\n",
    "    dataset_display_name=DATASET_DISPLAY_NAME,\n",
    "    endpoint_display_name=ENDPOINT_DISPLAY_NAME,\n",
    "    target_field=TARGET,\n",
    "    log_sample_rate=LOG_SAMPLE_RATE,\n",
    "    monitor_interval=MONITOR_INTERVAL,\n",
    "    skew_thresholds=SKEW_THRESHOLDS, \n",
    "    drift_thresholds=DIRFT_THRESHOLDS,\n",
    "    notify_emails=NOTIFY_EMAILS\n",
    ")\n",
    "\n",
    "monitoring_job"
   ]
  },
  {
   "cell_type": "markdown",
   "id": "attended-satin",
   "metadata": {},
   "source": [
    "## 3. List Monitoring Jobs"
   ]
  },
  {
   "cell_type": "code",
   "execution_count": null,
   "id": "honey-times",
   "metadata": {},
   "outputs": [],
   "source": [
    "vertex_client.list_monitoring_jobs()"
   ]
  },
  {
   "cell_type": "code",
   "execution_count": null,
   "id": "compliant-translator",
   "metadata": {},
   "outputs": [],
   "source": [
    "monitoring_job = vertex_client.get_monitoring_job_by_name(MONITORING_JOB_NAME)\n",
    "monitoring_job_artifacts_root = f\"gs://{monitoring_job.predict_instance_schema_uri.replace('gs://', '').split('/')[0]}\""
   ]
  },
  {
   "cell_type": "code",
   "execution_count": null,
   "id": "friendly-cemetery",
   "metadata": {},
   "outputs": [],
   "source": [
    "!gsutil ls {monitoring_job_artifacts_root}/*/*"
   ]
  },
  {
   "cell_type": "markdown",
   "id": "previous-surge",
   "metadata": {},
   "source": [
    "## 5. Pause Monitoring Job"
   ]
  },
  {
   "cell_type": "code",
   "execution_count": null,
   "id": "responsible-pizza",
   "metadata": {},
   "outputs": [],
   "source": [
    "vertex_client.pause_monitoring_job(MONITORING_JOB_NAME)"
   ]
  },
  {
   "cell_type": "markdown",
   "id": "impossible-torture",
   "metadata": {},
   "source": [
    "## Delete Monitoring Job"
   ]
  },
  {
   "cell_type": "code",
   "execution_count": null,
   "id": "devoted-paintball",
   "metadata": {},
   "outputs": [],
   "source": [
    "vertex_client.delete_monitoring_job(MONITORING_JOB_NAME)"
   ]
  },
  {
   "cell_type": "code",
   "execution_count": null,
   "id": "respiratory-theater",
   "metadata": {},
   "outputs": [],
   "source": []
  }
 ],
 "metadata": {
  "environment": {
   "name": "tf2-gpu.2-4.m65",
   "type": "gcloud",
   "uri": "gcr.io/deeplearning-platform-release/tf2-gpu.2-4:m65"
  },
  "kernelspec": {
   "display_name": "Python 3",
   "language": "python",
   "name": "python3"
  },
  "language_info": {
   "codemirror_mode": {
    "name": "ipython",
    "version": 3
   },
   "file_extension": ".py",
   "mimetype": "text/x-python",
   "name": "python",
   "nbconvert_exporter": "python",
   "pygments_lexer": "ipython3",
   "version": "3.7.10"
  }
 },
 "nbformat": 4,
 "nbformat_minor": 5
}
