{
 "cells": [
  {
   "cell_type": "markdown",
   "id": "economic-atlantic",
   "metadata": {},
   "source": [
    "# 03 - Model Deployment\n",
    "\n",
    "The purpose of this notebook is to execute a CI/CD routine to test and deploy the trained model to AI Platform Prediction, using Cloud Build.\n",
    "The CI/CD rountine is defined in the [model-deployment.yaml](model-deployment.yaml) file, and consists of the following steps:\n",
    "1. Load and test the the trained model interface.\n",
    "2. Create and endpoint in AI Platform Prediction if it doesn't exists.\n",
    "3. Deploy the model to the endpoint.\n",
    "4. Test the endpoint.\n"
   ]
  },
  {
   "cell_type": "markdown",
   "id": "efficient-estimate",
   "metadata": {},
   "source": [
    "## Setup"
   ]
  },
  {
   "cell_type": "code",
   "execution_count": 13,
   "id": "young-planet",
   "metadata": {},
   "outputs": [],
   "source": [
    "import os\n",
    "import logging\n",
    "\n",
    "logging.getLogger().setLevel(logging.INFO)"
   ]
  },
  {
   "cell_type": "code",
   "execution_count": 14,
   "id": "invisible-timeline",
   "metadata": {},
   "outputs": [],
   "source": [
    "PROJECT = 'ksalama-cloudml'\n",
    "REGION = 'us-central1'\n",
    "MODEL_DISPLAY_NAME = 'chicago_taxi_tips_classifier_v1'\n",
    "ENDPOINT_DISPLAY_NAME = 'chicago_taxi_tips_classification'\n",
    "\n",
    "CICD_IMAGE_NAME = 'cicd:latest'\n",
    "CICD_IMAGE_URI = f\"gcr.io/{PROJECT}/{CICD_IMAGE_NAME}\"\n",
    "\n",
    "REPO_URL = \"https://github.com/ksalama/ucaip-labs.git\"\n",
    "BRANCH = \"mb-sdk\""
   ]
  },
  {
   "cell_type": "markdown",
   "id": "beneficial-school",
   "metadata": {},
   "source": [
    "## Build CI/CD  Container Image for Cloud Build\n",
    "\n",
    "This is the runtime environment where the steps of testing and deploying the model will be executed."
   ]
  },
  {
   "cell_type": "code",
   "execution_count": null,
   "id": "every-shade",
   "metadata": {},
   "outputs": [],
   "source": [
    "!echo $CICD_IMAGE_URI"
   ]
  },
  {
   "cell_type": "code",
   "execution_count": null,
   "id": "frank-newark",
   "metadata": {},
   "outputs": [],
   "source": [
    "!gcloud builds submit --tag $CICD_IMAGE_URI build/. --timeout=15m"
   ]
  },
  {
   "cell_type": "markdown",
   "id": "understanding-session",
   "metadata": {},
   "source": [
    "## 1. Run CI/CD Steps locally"
   ]
  },
  {
   "cell_type": "code",
   "execution_count": 15,
   "id": "attempted-cable",
   "metadata": {},
   "outputs": [],
   "source": [
    "os.environ['PROJECT'] = PROJECT\n",
    "os.environ['REGION'] = REGION\n",
    "os.environ['MODEL_DISPLAY_NAME'] = MODEL_DISPLAY_NAME\n",
    "os.environ['ENDPOINT_DISPLAY_NAME'] = ENDPOINT_DISPLAY_NAME"
   ]
  },
  {
   "cell_type": "markdown",
   "id": "alleged-deviation",
   "metadata": {},
   "source": [
    "### Run the model artifact testing"
   ]
  },
  {
   "cell_type": "code",
   "execution_count": 34,
   "id": "wicked-texas",
   "metadata": {},
   "outputs": [
    {
     "name": "stdout",
     "output_type": "stream",
     "text": [
      "\u001b[1m============================= test session starts ==============================\u001b[0m\n",
      "platform linux -- Python 3.7.10, pytest-6.2.4, py-1.10.0, pluggy-0.13.1\n",
      "rootdir: /home/jupyter/ucaip-labs\n",
      "\u001b[1mcollecting ... \u001b[0m2021-05-28 15:13:25.269865: I tensorflow/stream_executor/platform/default/dso_loader.cc:49] Successfully opened dynamic library libcudart.so.11.0\n",
      "collected 1 item                                                               \u001b[0m\u001b[1m\n",
      "\n",
      "src/tests/model_deployment_tests.py 2021-05-28 15:13:27.901408: I tensorflow/compiler/jit/xla_cpu_device.cc:41] Not creating XLA devices, tf_xla_enable_xla_devices not set\n",
      "2021-05-28 15:13:27.901686: W tensorflow/stream_executor/platform/default/dso_loader.cc:60] Could not load dynamic library 'libcuda.so.1'; dlerror: libcuda.so.1: cannot open shared object file: No such file or directory; LD_LIBRARY_PATH: /usr/local/cuda/lib64:/usr/local/nccl2/lib:/usr/local/cuda/extras/CUPTI/lib64\n",
      "2021-05-28 15:13:27.901708: W tensorflow/stream_executor/cuda/cuda_driver.cc:326] failed call to cuInit: UNKNOWN ERROR (303)\n",
      "2021-05-28 15:13:27.901726: I tensorflow/stream_executor/cuda/cuda_diagnostics.cc:156] kernel driver does not appear to be running on this host (ks-notebooks-ucaip01): /proc/driver/nvidia/version does not exist\n",
      "2021-05-28 15:13:27.902020: I tensorflow/core/platform/cpu_feature_guard.cc:142] This TensorFlow binary is optimized with oneAPI Deep Neural Network Library (oneDNN) to use the following CPU instructions in performance-critical operations:  AVX2 FMA\n",
      "To enable them in other operations, rebuild TensorFlow with the appropriate compiler flags.\n",
      "2021-05-28 15:13:27.902331: I tensorflow/compiler/jit/xla_gpu_device.cc:99] Not creating XLA devices, tf_xla_enable_xla_devices not set\n",
      "{'dropoff_grid': <tf.Tensor: shape=(1, 1), dtype=string, numpy=array([[b'POINT(-87.6 41.9)']], dtype=object)>, 'euclidean': <tf.Tensor: shape=(1, 1), dtype=float32, numpy=array([[2064.2695]], dtype=float32)>, 'loc_cross': <tf.Tensor: shape=(1, 1), dtype=string, numpy=array([[b'']], dtype=object)>, 'payment_type': <tf.Tensor: shape=(1, 1), dtype=string, numpy=array([[b'Credit Card']], dtype=object)>, 'pickup_grid': <tf.Tensor: shape=(1, 1), dtype=string, numpy=array([[b'POINT(-87.6 41.9)']], dtype=object)>, 'trip_miles': <tf.Tensor: shape=(1, 1), dtype=float32, numpy=array([[1.37]], dtype=float32)>, 'trip_day': <tf.Tensor: shape=(1, 1), dtype=int64, numpy=array([[12]])>, 'trip_hour': <tf.Tensor: shape=(1, 1), dtype=int64, numpy=array([[16]])>, 'trip_month': <tf.Tensor: shape=(1, 1), dtype=int64, numpy=array([[2]])>, 'trip_day_of_week': <tf.Tensor: shape=(1, 1), dtype=int64, numpy=array([[4]])>, 'trip_seconds': <tf.Tensor: shape=(1, 1), dtype=int64, numpy=array([[555]])>}\n",
      "2021-05-28 15:13:36.579609: I tensorflow/compiler/mlir/mlir_graph_optimization_pass.cc:116] None of the MLIR optimization passes are enabled (registered 2)\n",
      "2021-05-28 15:13:36.789966: I tensorflow/core/platform/profile_utils/cpu_utils.cc:112] CPU Frequency: 2299995000 Hz\n",
      "\u001b[32m.\u001b[0m\n",
      "\n",
      "\u001b[33m=============================== warnings summary ===============================\u001b[0m\n",
      "../../../opt/conda/lib/python3.7/site-packages/tensorflow/python/autograph/impl/api.py:22\n",
      "  /opt/conda/lib/python3.7/site-packages/tensorflow/python/autograph/impl/api.py:22: DeprecationWarning: the imp module is deprecated in favour of importlib; see the module's documentation for alternative uses\n",
      "    import imp\n",
      "\n",
      "-- Docs: https://docs.pytest.org/en/stable/warnings.html\n",
      "\u001b[33m======================== \u001b[32m1 passed\u001b[0m, \u001b[33m\u001b[1m1 warning\u001b[0m\u001b[33m in 36.49s\u001b[0m\u001b[33m =========================\u001b[0m\n"
     ]
    }
   ],
   "source": [
    "!py.test src/tests/model_deployment_tests.py::test_model_artifact -s"
   ]
  },
  {
   "cell_type": "markdown",
   "id": "moral-bridge",
   "metadata": {},
   "source": [
    "### Run create endpoint"
   ]
  },
  {
   "cell_type": "code",
   "execution_count": 38,
   "id": "hawaiian-familiar",
   "metadata": {},
   "outputs": [
    {
     "name": "stdout",
     "output_type": "stream",
     "text": [
      "INFO:google.cloud.bigquery.opentelemetry_tracing:This service is instrumented using OpenTelemetry.OpenTelemetry could not be imported; pleaseadd opentelemetry-api and opentelemetry-instrumentationpackages in order to get BigQuery Tracing data.\n",
      "2021-05-28 15:19:18.459550: I tensorflow/stream_executor/platform/default/dso_loader.cc:49] Successfully opened dynamic library libcudart.so.11.0\n",
      "INFO:root:Creating endpoint chicago_taxi_tips_classification\n",
      "INFO:root:Uniquness of objects in project:ksalama-cloudml region:us-central1 validated.\n",
      "INFO:root:Vertex AI client initialized.\n",
      "INFO:root:Endpoint is ready.\n",
      "INFO:root:name: \"projects/900786220115/locations/us-central1/endpoints/1622474542318354432\"\n",
      "display_name: \"chicago_taxi_tips_classification\"\n",
      "etag: \"AMEw9yNpXCUfkco-lGfHfP-Yr-jyexhY9K68k6-G_DFb2SpNqffbwRuqC0KJZWim5Ypt\"\n",
      "create_time {\n",
      "  seconds: 1622215109\n",
      "  nanos: 940519000\n",
      "}\n",
      "update_time {\n",
      "  seconds: 1622215110\n",
      "  nanos: 934797000\n",
      "}\n",
      "\n",
      "INFO:root:<google.cloud.aiplatform.models.Endpoint object at 0x7f81c8d4ce10> \n",
      "resource name: projects/900786220115/locations/us-central1/endpoints/1622474542318354432\n"
     ]
    }
   ],
   "source": [
    "!python build/utils.py \\\n",
    "    --mode=create-endpoint\\\n",
    "    --project={PROJECT}\\\n",
    "    --region={REGION}\\\n",
    "    --endpoint-display-name={ENDPOINT_DISPLAY_NAME}"
   ]
  },
  {
   "cell_type": "markdown",
   "id": "respiratory-explosion",
   "metadata": {},
   "source": [
    "### Run deploy model"
   ]
  },
  {
   "cell_type": "code",
   "execution_count": 45,
   "id": "directed-dialogue",
   "metadata": {},
   "outputs": [
    {
     "name": "stdout",
     "output_type": "stream",
     "text": [
      "INFO:google.cloud.bigquery.opentelemetry_tracing:This service is instrumented using OpenTelemetry.OpenTelemetry could not be imported; pleaseadd opentelemetry-api and opentelemetry-instrumentationpackages in order to get BigQuery Tracing data.\n",
      "2021-05-28 15:36:40.278441: I tensorflow/stream_executor/platform/default/dso_loader.cc:49] Successfully opened dynamic library libcudart.so.11.0\n",
      "INFO:root:serving resources: {'traffic_percentage': 100, 'machine_type': 'n1-standard-2', 'min_replica_count': 1, 'max_replica_count': 1, 'accelerator_type': None, 'accelerator_count': None}\n",
      "INFO:root:Deploying model chicago_taxi_tips_classifier_v1 to endpoint chicago_taxi_tips_classification\n",
      "INFO:root:Uniquness of objects in project:ksalama-cloudml region:us-central1 validated.\n",
      "INFO:root:Vertex AI client initialized.\n",
      "INFO:google.cloud.aiplatform.models:Deploying Model projects/900786220115/locations/us-central1/models/1544435605025325056 to Endpoint : projects/900786220115/locations/us-central1/endpoints/1622474542318354432\n",
      "INFO:google.cloud.aiplatform.models:Deploy Endpoint model backing LRO: projects/900786220115/locations/us-central1/endpoints/1622474542318354432/operations/3746088342635151360\n",
      "INFO:google.cloud.aiplatform.models:Endpoint model deployed. Resource name: projects/900786220115/locations/us-central1/endpoints/1622474542318354432\n",
      "INFO:root:Model is deployed.\n",
      "INFO:root:id: \"2319476953398116352\"\n",
      "model: \"projects/900786220115/locations/us-central1/models/1544435605025325056\"\n",
      "display_name: \"chicago_taxi_tips_classifier_v1\"\n",
      "create_time {\n",
      "  seconds: 1622216208\n",
      "  nanos: 724713000\n",
      "}\n",
      "dedicated_resources {\n",
      "  machine_spec {\n",
      "    machine_type: \"n1-standard-2\"\n",
      "  }\n",
      "  min_replica_count: 1\n",
      "  max_replica_count: 1\n",
      "}\n",
      "\n",
      "Traceback (most recent call last):\n",
      "  File \"build/utils.py\", line 155, in <module>\n",
      "    main()\n",
      "  File \"build/utils.py\", line 139, in main\n",
      "    serving_resources_spec\n",
      "  File \"build/utils.py\", line 93, in deploy_model\n",
      "    return result\n",
      "NameError: name 'result' is not defined\n"
     ]
    }
   ],
   "source": [
    "!python build/utils.py \\\n",
    "    --mode=deploy-model\\\n",
    "    --project={PROJECT}\\\n",
    "    --region={REGION}\\\n",
    "    --endpoint-display-name={ENDPOINT_DISPLAY_NAME}\\\n",
    "    --model-display-name={MODEL_DISPLAY_NAME}"
   ]
  },
  {
   "cell_type": "markdown",
   "id": "brilliant-novel",
   "metadata": {},
   "source": [
    "### Run model endpoint testing"
   ]
  },
  {
   "cell_type": "code",
   "execution_count": null,
   "id": "impaired-services",
   "metadata": {},
   "outputs": [],
   "source": [
    "!py.test src/tests/model_deployment_tests.py::test_model_endpoint"
   ]
  },
  {
   "cell_type": "markdown",
   "id": "earlier-vegetarian",
   "metadata": {},
   "source": [
    "## 2. Execute the Model Deployment CI/CD rountine in Cloud Build"
   ]
  },
  {
   "cell_type": "code",
   "execution_count": null,
   "id": "prescription-alarm",
   "metadata": {},
   "outputs": [],
   "source": [
    "SUBSTITUTIONS=f\"\"\"\\\n",
    "_REPO_URL='{REPO_URL}',\\\n",
    "_BRANCH={BRANCH},\\\n",
    "_CICD_IMAGE_URI={CICD_IMAGE_URI},\\\n",
    "_PROJECT={PROJECT},\\\n",
    "_REGION={REGION},\\\n",
    "_MODEL_DISPLAY_NAME={MODEL_DISPLAY_NAME},\\\n",
    "_ENDPOINT_DISPLAY_NAME={ENDPOINT_DISPLAY_NAME},\\\n",
    "\"\"\"\n",
    "\n",
    "!echo $SUBSTITUTIONS"
   ]
  },
  {
   "cell_type": "code",
   "execution_count": null,
   "id": "verified-exemption",
   "metadata": {},
   "outputs": [],
   "source": [
    "!gcloud builds submit --no-source --config build/model-deployment.yaml --substitutions {SUBSTITUTIONS} --timeout=30m"
   ]
  },
  {
   "cell_type": "code",
   "execution_count": null,
   "id": "latter-induction",
   "metadata": {},
   "outputs": [],
   "source": []
  },
  {
   "cell_type": "code",
   "execution_count": null,
   "id": "informative-costs",
   "metadata": {},
   "outputs": [],
   "source": []
  }
 ],
 "metadata": {
  "environment": {
   "name": "tf2-gpu.2-4.m65",
   "type": "gcloud",
   "uri": "gcr.io/deeplearning-platform-release/tf2-gpu.2-4:m65"
  },
  "kernelspec": {
   "display_name": "Python 3",
   "language": "python",
   "name": "python3"
  },
  "language_info": {
   "codemirror_mode": {
    "name": "ipython",
    "version": 3
   },
   "file_extension": ".py",
   "mimetype": "text/x-python",
   "name": "python",
   "nbconvert_exporter": "python",
   "pygments_lexer": "ipython3",
   "version": "3.7.10"
  }
 },
 "nbformat": 4,
 "nbformat_minor": 5
}
