{
 "cells": [
  {
   "cell_type": "markdown",
   "id": "comparative-korean",
   "metadata": {},
   "source": [
    "# 03 - Model Deployment\n",
    "\n",
    "The purpose of this notebook is to execute a CI/CD routine to test and deploy the trained model to AI Platform Prediction, using Cloud Build.\n",
    "The CI/CD rountine is defined in the [model-deployment.yaml](model-deployment.yaml) file, and consists of the following steps:\n",
    "1. Load and test the the trained model interface.\n",
    "2. Create and endpoint in AI Platform Prediction if it doesn't exists.\n",
    "3. Deploy the model to the endpoint.\n",
    "4. Test the endpoint.\n"
   ]
  },
  {
   "cell_type": "markdown",
   "id": "assumed-flooring",
   "metadata": {},
   "source": [
    "## Setup"
   ]
  },
  {
   "cell_type": "code",
   "execution_count": 1,
   "id": "narrative-gregory",
   "metadata": {},
   "outputs": [],
   "source": [
    "import os\n",
    "import logging\n",
    "\n",
    "logging.getLogger().setLevel(logging.INFO)"
   ]
  },
  {
   "cell_type": "code",
   "execution_count": 2,
   "id": "increasing-surname",
   "metadata": {},
   "outputs": [],
   "source": [
    "PROJECT = 'ksalama-cloudml'\n",
    "REGION = 'us-central1'\n",
    "MODEL_DISPLAY_NAME = 'chicago_taxi_tips_classifier_v1'\n",
    "ENDPOINT_DISPLAY_NAME = 'chicago_taxi_tips_classifier'\n",
    "\n",
    "CICD_IMAGE_NAME = 'cicd:latest'\n",
    "CICD_IMAGE_URI = f\"gcr.io/{PROJECT}/{CICD_IMAGE_NAME}\"\n",
    "\n",
    "REPO_URL = \"https://github.com/ksalama/ucaip-labs.git\"\n",
    "BRANCH = \"simplified\""
   ]
  },
  {
   "cell_type": "markdown",
   "id": "developing-state",
   "metadata": {},
   "source": [
    "## Build CI/CD  Container Image for Cloud Build\n",
    "\n",
    "This is the runtime environment where the steps of testing and deploying the model will be executed."
   ]
  },
  {
   "cell_type": "code",
   "execution_count": null,
   "id": "developmental-argentina",
   "metadata": {},
   "outputs": [],
   "source": [
    "!echo $CICD_IMAGE_URI"
   ]
  },
  {
   "cell_type": "code",
   "execution_count": null,
   "id": "magnetic-michael",
   "metadata": {},
   "outputs": [],
   "source": [
    "!gcloud builds submit --tag $CICD_IMAGE_URI build/. --timeout=15m"
   ]
  },
  {
   "cell_type": "markdown",
   "id": "later-translator",
   "metadata": {},
   "source": [
    "## Run CI/CD Steps locally"
   ]
  },
  {
   "cell_type": "code",
   "execution_count": 3,
   "id": "regional-principle",
   "metadata": {},
   "outputs": [],
   "source": [
    "os.environ['PROJECT'] = PROJECT\n",
    "os.environ['REGION'] = REGION\n",
    "os.environ['MODEL_DISPLAY_NAME'] = MODEL_DISPLAY_NAME\n",
    "os.environ['ENDPOINT_DISPLAY_NAME'] = ENDPOINT_DISPLAY_NAME"
   ]
  },
  {
   "cell_type": "markdown",
   "id": "hungarian-small",
   "metadata": {},
   "source": [
    "### Run the model artifact testing"
   ]
  },
  {
   "cell_type": "code",
   "execution_count": null,
   "id": "charming-purple",
   "metadata": {},
   "outputs": [],
   "source": [
    "!py.test src/tests/model_deployment_tests.py::test_model_artifact"
   ]
  },
  {
   "cell_type": "markdown",
   "id": "proper-pendant",
   "metadata": {},
   "source": [
    "### Run create endpoint"
   ]
  },
  {
   "cell_type": "code",
   "execution_count": null,
   "id": "african-thursday",
   "metadata": {},
   "outputs": [],
   "source": [
    "!python build/deploy-model.py \\\n",
    "    --mode=endpoint\\\n",
    "    --project={PROJECT}\\\n",
    "    --region={REGION}\\\n",
    "    --endpoint-display-name={ENDPOINT_DISPLAY_NAME}"
   ]
  },
  {
   "cell_type": "markdown",
   "id": "later-replication",
   "metadata": {},
   "source": [
    "### Run deploy model"
   ]
  },
  {
   "cell_type": "code",
   "execution_count": null,
   "id": "fewer-staff",
   "metadata": {},
   "outputs": [],
   "source": [
    "!python build/deploy-model.py \\\n",
    "    --mode=model\\\n",
    "    --project={PROJECT}\\\n",
    "    --region={REGION}\\\n",
    "    --endpoint-display-name={ENDPOINT_DISPLAY_NAME}\\\n",
    "    --model-display-name={MODEL_DISPLAY_NAME}"
   ]
  },
  {
   "cell_type": "markdown",
   "id": "facial-speech",
   "metadata": {},
   "source": [
    "### Run model endpoint testing"
   ]
  },
  {
   "cell_type": "code",
   "execution_count": null,
   "id": "going-treat",
   "metadata": {},
   "outputs": [],
   "source": [
    "!py.test src/tests/model_deployment_tests.py::test_model_endpoint"
   ]
  },
  {
   "cell_type": "markdown",
   "id": "orange-dutch",
   "metadata": {},
   "source": [
    "## Execute the Model Deployment CI/CD rountine to Cloud Build"
   ]
  },
  {
   "cell_type": "code",
   "execution_count": 4,
   "id": "deadly-funds",
   "metadata": {},
   "outputs": [
    {
     "name": "stdout",
     "output_type": "stream",
     "text": [
      "_REPO_URL=https://github.com/ksalama/ucaip-labs.git,_BRANCH=simplified,_CICD_IMAGE_URI=gcr.io/ksalama-cloudml/cicd:latest,_PROJECT=ksalama-cloudml,_REGION=us-central1,_MODEL_DISPLAY_NAME=chicago_taxi_tips_classifier_v1,_ENDPOINT_DISPLAY_NAME=chicago_taxi_tips_classifier,\n"
     ]
    }
   ],
   "source": [
    "SUBSTITUTIONS=f\"\"\"\\\n",
    "_REPO_URL='{REPO_URL}',\\\n",
    "_BRANCH={BRANCH},\\\n",
    "_CICD_IMAGE_URI={CICD_IMAGE_URI},\\\n",
    "_PROJECT={PROJECT},\\\n",
    "_REGION={REGION},\\\n",
    "_MODEL_DISPLAY_NAME={MODEL_DISPLAY_NAME},\\\n",
    "_ENDPOINT_DISPLAY_NAME={ENDPOINT_DISPLAY_NAME},\\\n",
    "\"\"\"\n",
    "\n",
    "!echo $SUBSTITUTIONS"
   ]
  },
  {
   "cell_type": "code",
   "execution_count": 5,
   "id": "fluid-blame",
   "metadata": {},
   "outputs": [
    {
     "name": "stdout",
     "output_type": "stream",
     "text": [
      "Created [https://cloudbuild.googleapis.com/v1/projects/ksalama-cloudml/locations/global/builds/2235b92b-92e2-4549-b3ea-ec1bb487fdd3].\n",
      "Logs are available at [https://console.cloud.google.com/cloud-build/builds/2235b92b-92e2-4549-b3ea-ec1bb487fdd3?project=900786220115].\n",
      "----------------------------- REMOTE BUILD OUTPUT ------------------------------\n",
      "starting build \"2235b92b-92e2-4549-b3ea-ec1bb487fdd3\"\n",
      "\n",
      "FETCHSOURCE\n",
      "BUILD\n",
      "Starting Step #0 - \"Clone Repository\"\n",
      "Step #0 - \"Clone Repository\": Already have image (with digest): gcr.io/cloud-builders/git\n",
      "Step #0 - \"Clone Repository\": Cloning into 'ucaip-labs'...\n",
      "Step #0 - \"Clone Repository\": POST git-upload-pack (377 bytes)\n",
      "Step #0 - \"Clone Repository\": POST git-upload-pack (194 bytes)\n",
      "Finished Step #0 - \"Clone Repository\"\n",
      "Starting Step #1 - \"Test Model Artifact\"\n",
      "Step #1 - \"Test Model Artifact\": Pulling image: gcr.io/ksalama-cloudml/cicd:latest\n",
      "Step #1 - \"Test Model Artifact\": latest: Pulling from ksalama-cloudml/cicd\n",
      "Step #1 - \"Test Model Artifact\": bd47987755ba: Pulling fs layer\n",
      "Step #1 - \"Test Model Artifact\": 831c222b21d8: Pulling fs layer\n",
      "Step #1 - \"Test Model Artifact\": 3c2cba919283: Pulling fs layer\n",
      "Step #1 - \"Test Model Artifact\": e378d88a5f59: Pulling fs layer\n",
      "Step #1 - \"Test Model Artifact\": df37508d2f5c: Pulling fs layer\n",
      "Step #1 - \"Test Model Artifact\": c28e7cc900d1: Pulling fs layer\n",
      "Step #1 - \"Test Model Artifact\": 9019978541a7: Pulling fs layer\n",
      "Step #1 - \"Test Model Artifact\": e378d88a5f59: Waiting\n",
      "Step #1 - \"Test Model Artifact\": 5aae39c8e1a7: Pulling fs layer\n",
      "Step #1 - \"Test Model Artifact\": bd3f6166b784: Pulling fs layer\n",
      "Step #1 - \"Test Model Artifact\": 8e77d91080ac: Pulling fs layer\n",
      "Step #1 - \"Test Model Artifact\": f186d6c89b9d: Pulling fs layer\n",
      "Step #1 - \"Test Model Artifact\": 9272e137079e: Pulling fs layer\n",
      "Step #1 - \"Test Model Artifact\": 53567fc99c41: Pulling fs layer\n",
      "Step #1 - \"Test Model Artifact\": c28e7cc900d1: Waiting\n",
      "Step #1 - \"Test Model Artifact\": 9019978541a7: Waiting\n",
      "Step #1 - \"Test Model Artifact\": df37508d2f5c: Waiting\n",
      "Step #1 - \"Test Model Artifact\": 5aae39c8e1a7: Waiting\n",
      "Step #1 - \"Test Model Artifact\": 8e77d91080ac: Waiting\n",
      "Step #1 - \"Test Model Artifact\": f186d6c89b9d: Waiting\n",
      "Step #1 - \"Test Model Artifact\": 9272e137079e: Waiting\n",
      "Step #1 - \"Test Model Artifact\": 53567fc99c41: Waiting\n",
      "Step #1 - \"Test Model Artifact\": bd3f6166b784: Waiting\n",
      "Step #1 - \"Test Model Artifact\": 3c2cba919283: Verifying Checksum\n",
      "Step #1 - \"Test Model Artifact\": 3c2cba919283: Download complete\n",
      "Step #1 - \"Test Model Artifact\": 831c222b21d8: Verifying Checksum\n",
      "Step #1 - \"Test Model Artifact\": 831c222b21d8: Download complete\n",
      "Step #1 - \"Test Model Artifact\": bd47987755ba: Verifying Checksum\n",
      "Step #1 - \"Test Model Artifact\": bd47987755ba: Download complete\n",
      "Step #1 - \"Test Model Artifact\": c28e7cc900d1: Verifying Checksum\n",
      "Step #1 - \"Test Model Artifact\": c28e7cc900d1: Download complete\n",
      "Step #1 - \"Test Model Artifact\": e378d88a5f59: Verifying Checksum\n",
      "Step #1 - \"Test Model Artifact\": e378d88a5f59: Download complete\n",
      "Step #1 - \"Test Model Artifact\": 9019978541a7: Verifying Checksum\n",
      "Step #1 - \"Test Model Artifact\": 9019978541a7: Download complete\n",
      "Step #1 - \"Test Model Artifact\": df37508d2f5c: Verifying Checksum\n",
      "Step #1 - \"Test Model Artifact\": df37508d2f5c: Download complete\n",
      "Step #1 - \"Test Model Artifact\": bd3f6166b784: Verifying Checksum\n",
      "Step #1 - \"Test Model Artifact\": bd3f6166b784: Download complete\n",
      "Step #1 - \"Test Model Artifact\": f186d6c89b9d: Verifying Checksum\n",
      "Step #1 - \"Test Model Artifact\": f186d6c89b9d: Download complete\n",
      "Step #1 - \"Test Model Artifact\": 9272e137079e: Verifying Checksum\n",
      "Step #1 - \"Test Model Artifact\": 9272e137079e: Download complete\n",
      "Step #1 - \"Test Model Artifact\": bd47987755ba: Pull complete\n",
      "Step #1 - \"Test Model Artifact\": 53567fc99c41: Verifying Checksum\n",
      "Step #1 - \"Test Model Artifact\": 53567fc99c41: Download complete\n",
      "Step #1 - \"Test Model Artifact\": 831c222b21d8: Pull complete\n",
      "Step #1 - \"Test Model Artifact\": 3c2cba919283: Pull complete\n",
      "Step #1 - \"Test Model Artifact\": 8e77d91080ac: Verifying Checksum\n",
      "Step #1 - \"Test Model Artifact\": 8e77d91080ac: Download complete\n",
      "Step #1 - \"Test Model Artifact\": 5aae39c8e1a7: Verifying Checksum\n",
      "Step #1 - \"Test Model Artifact\": 5aae39c8e1a7: Download complete\n",
      "Step #1 - \"Test Model Artifact\": e378d88a5f59: Pull complete\n",
      "Step #1 - \"Test Model Artifact\": df37508d2f5c: Pull complete\n",
      "Step #1 - \"Test Model Artifact\": c28e7cc900d1: Pull complete\n",
      "Step #1 - \"Test Model Artifact\": 9019978541a7: Pull complete\n",
      "Step #1 - \"Test Model Artifact\": 5aae39c8e1a7: Pull complete\n",
      "Step #1 - \"Test Model Artifact\": bd3f6166b784: Pull complete\n",
      "Step #1 - \"Test Model Artifact\": 8e77d91080ac: Pull complete\n",
      "Step #1 - \"Test Model Artifact\": f186d6c89b9d: Pull complete\n",
      "Step #1 - \"Test Model Artifact\": 9272e137079e: Pull complete\n",
      "Step #1 - \"Test Model Artifact\": 53567fc99c41: Pull complete\n",
      "Step #1 - \"Test Model Artifact\": Digest: sha256:90948fba75d1bb96ff3f8796c0d0a6e4f5edc0ca1e9b9c419c4ceae9c3553609\n",
      "Step #1 - \"Test Model Artifact\": Status: Downloaded newer image for gcr.io/ksalama-cloudml/cicd:latest\n",
      "Step #1 - \"Test Model Artifact\": gcr.io/ksalama-cloudml/cicd:latest\n",
      "Step #1 - \"Test Model Artifact\": ============================= test session starts ==============================\n",
      "Step #1 - \"Test Model Artifact\": platform linux -- Python 3.7.8, pytest-6.2.4, py-1.10.0, pluggy-0.13.1\n",
      "Step #1 - \"Test Model Artifact\": rootdir: /workspace/ucaip-labs\n",
      "Step #1 - \"Test Model Artifact\": collected 1 item\n",
      "Step #1 - \"Test Model Artifact\": \n",
      "Step #1 - \"Test Model Artifact\": src/tests/model_deployment_tests.py .                                    [100%]\n",
      "Step #1 - \"Test Model Artifact\": \n",
      "Step #1 - \"Test Model Artifact\": =============================== warnings summary ===============================\n",
      "Step #1 - \"Test Model Artifact\": ../../usr/local/lib/python3.7/dist-packages/tensorflow/python/autograph/impl/api.py:22\n",
      "Step #1 - \"Test Model Artifact\":   /usr/local/lib/python3.7/dist-packages/tensorflow/python/autograph/impl/api.py:22: DeprecationWarning: the imp module is deprecated in favour of importlib; see the module's documentation for alternative uses\n",
      "Step #1 - \"Test Model Artifact\":     import imp\n",
      "Step #1 - \"Test Model Artifact\": \n",
      "Step #1 - \"Test Model Artifact\": -- Docs: https://docs.pytest.org/en/stable/warnings.html\n",
      "Step #1 - \"Test Model Artifact\": ======================== 1 passed, 1 warning in 51.83s =========================\n",
      "Finished Step #1 - \"Test Model Artifact\"\n",
      "Starting Step #2 - \"Create Endpoint\"\n",
      "Step #2 - \"Create Endpoint\": Already have image (with digest): gcr.io/ksalama-cloudml/cicd:latest\n",
      "Step #2 - \"Create Endpoint\": INFO:google.cloud.bigquery.opentelemetry_tracing:This service is instrumented using OpenTelemetry.OpenTelemetry could not be imported; pleaseadd opentelemetry-api and opentelemetry-instrumentationpackages in order to get BigQuery Tracing data.\n",
      "Step #2 - \"Create Endpoint\": 2021-05-20 10:29:22.730762: W tensorflow/stream_executor/platform/default/dso_loader.cc:60] Could not load dynamic library 'libcudart.so.11.0'; dlerror: libcudart.so.11.0: cannot open shared object file: No such file or directory; LD_LIBRARY_PATH: /usr/local/lib\n",
      "Step #2 - \"Create Endpoint\": 2021-05-20 10:29:22.730821: I tensorflow/stream_executor/cuda/cudart_stub.cc:29] Ignore above cudart dlerror if you do not have a GPU set up on your machine.\n",
      "Step #2 - \"Create Endpoint\": INFO:root:Creating endpoint chicago_taxi_tips_classifier\n",
      "Step #2 - \"Create Endpoint\": INFO:root:Endpoint is ready.\n",
      "Step #2 - \"Create Endpoint\": INFO:root:name: \"projects/900786220115/locations/us-central1/endpoints/1954509461720662016\"\n",
      "Step #2 - \"Create Endpoint\": display_name: \"chicago_taxi_tips_classifier\"\n",
      "Step #2 - \"Create Endpoint\": etag: \"AMEw9yMtWKTQ3n8C15DiRf04SrzYXGO-iRJgCtwzVmoAat67LBRAJsOKYrCYlrhRo4k8\"\n",
      "Step #2 - \"Create Endpoint\": create_time {\n",
      "Step #2 - \"Create Endpoint\":   seconds: 1621456238\n",
      "Step #2 - \"Create Endpoint\":   nanos: 465452000\n",
      "Step #2 - \"Create Endpoint\": }\n",
      "Step #2 - \"Create Endpoint\": update_time {\n",
      "Step #2 - \"Create Endpoint\":   seconds: 1621506328\n",
      "Step #2 - \"Create Endpoint\":   nanos: 732080000\n",
      "Step #2 - \"Create Endpoint\": }\n",
      "Step #2 - \"Create Endpoint\": \n",
      "Finished Step #2 - \"Create Endpoint\"\n",
      "Starting Step #3 - \"Deploy Model\"\n",
      "Step #3 - \"Deploy Model\": Already have image (with digest): gcr.io/ksalama-cloudml/cicd:latest\n",
      "Step #3 - \"Deploy Model\": INFO:google.cloud.bigquery.opentelemetry_tracing:This service is instrumented using OpenTelemetry.OpenTelemetry could not be imported; pleaseadd opentelemetry-api and opentelemetry-instrumentationpackages in order to get BigQuery Tracing data.\n",
      "Step #3 - \"Deploy Model\": 2021-05-20 10:29:28.768431: W tensorflow/stream_executor/platform/default/dso_loader.cc:60] Could not load dynamic library 'libcudart.so.11.0'; dlerror: libcudart.so.11.0: cannot open shared object file: No such file or directory; LD_LIBRARY_PATH: /usr/local/lib\n",
      "Step #3 - \"Deploy Model\": 2021-05-20 10:29:28.768558: I tensorflow/stream_executor/cuda/cudart_stub.cc:29] Ignore above cudart dlerror if you do not have a GPU set up on your machine.\n",
      "Step #3 - \"Deploy Model\": INFO:root:serving resources: {'machine_spec': {'machine_type': 'n1-standard-2'}, 'min_replica_count': 1, 'max_replica_count': 10}\n",
      "Step #3 - \"Deploy Model\": INFO:root:Deploying model chicago_taxi_tips_classifier_v1 to  endpoint chicago_taxi_tips_classifier\n",
      "Step #3 - \"Deploy Model\": INFO:root:Model chicago_taxi_tips_classifier_v1 is deployed.\n",
      "Step #3 - \"Deploy Model\": INFO:root:deployed_model {\n",
      "Step #3 - \"Deploy Model\":   id: \"6304388567435051008\"\n",
      "Step #3 - \"Deploy Model\": }\n",
      "Step #3 - \"Deploy Model\": \n",
      "Finished Step #3 - \"Deploy Model\"\n",
      "Starting Step #4 - \"Test Model Endpoint\"\n",
      "Step #4 - \"Test Model Endpoint\": Already have image (with digest): gcr.io/ksalama-cloudml/cicd:latest\n",
      "Step #4 - \"Test Model Endpoint\": ============================= test session starts ==============================\n",
      "Step #4 - \"Test Model Endpoint\": platform linux -- Python 3.7.8, pytest-6.2.4, py-1.10.0, pluggy-0.13.1\n",
      "Step #4 - \"Test Model Endpoint\": rootdir: /workspace/ucaip-labs\n",
      "Step #4 - \"Test Model Endpoint\": collected 1 item\n",
      "Step #4 - \"Test Model Endpoint\": \n",
      "Step #4 - \"Test Model Endpoint\": src/tests/model_deployment_tests.py .                                    [100%]\n",
      "Step #4 - \"Test Model Endpoint\": \n",
      "Step #4 - \"Test Model Endpoint\": =============================== warnings summary ===============================\n",
      "Step #4 - \"Test Model Endpoint\": ../../usr/local/lib/python3.7/dist-packages/tensorflow/python/autograph/impl/api.py:22\n",
      "Step #4 - \"Test Model Endpoint\":   /usr/local/lib/python3.7/dist-packages/tensorflow/python/autograph/impl/api.py:22: DeprecationWarning: the imp module is deprecated in favour of importlib; see the module's documentation for alternative uses\n",
      "Step #4 - \"Test Model Endpoint\":     import imp\n",
      "Step #4 - \"Test Model Endpoint\": \n",
      "Step #4 - \"Test Model Endpoint\": -- Docs: https://docs.pytest.org/en/stable/warnings.html\n",
      "Step #4 - \"Test Model Endpoint\": ========================= 1 passed, 1 warning in 7.11s =========================\n",
      "Finished Step #4 - \"Test Model Endpoint\"\n",
      "PUSH\n",
      "DONE\n",
      "--------------------------------------------------------------------------------\n",
      "\n",
      "ID                                    CREATE_TIME                DURATION  SOURCE  IMAGES  STATUS\n",
      "2235b92b-92e2-4549-b3ea-ec1bb487fdd3  2021-05-20T10:26:41+00:00  5M6S      -       -       SUCCESS\n"
     ]
    }
   ],
   "source": [
    "!gcloud builds submit --no-source --config build/model-deployment.yaml --substitutions {SUBSTITUTIONS} --timeout=30m"
   ]
  },
  {
   "cell_type": "code",
   "execution_count": null,
   "id": "broadband-spread",
   "metadata": {},
   "outputs": [],
   "source": []
  }
 ],
 "metadata": {
  "environment": {
   "name": "tf2-gpu.2-4.m65",
   "type": "gcloud",
   "uri": "gcr.io/deeplearning-platform-release/tf2-gpu.2-4:m65"
  },
  "kernelspec": {
   "display_name": "Python 3",
   "language": "python",
   "name": "python3"
  },
  "language_info": {
   "codemirror_mode": {
    "name": "ipython",
    "version": 3
   },
   "file_extension": ".py",
   "mimetype": "text/x-python",
   "name": "python",
   "nbconvert_exporter": "python",
   "pygments_lexer": "ipython3",
   "version": "3.7.10"
  }
 },
 "nbformat": 4,
 "nbformat_minor": 5
}
