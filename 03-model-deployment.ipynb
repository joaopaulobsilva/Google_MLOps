{
 "cells": [
  {
   "cell_type": "markdown",
   "id": "weekly-interest",
   "metadata": {},
   "source": [
    "# 03 - Model Deployment\n",
    "\n",
    "The purpose of this notebook is to execute a CI/CD routine to test and deploy the trained model to AI Platform Prediction, using Cloud Build.\n",
    "The CI/CD rountine is defined in the [model-deployment.yaml](model-deployment.yaml) file, and consists of the following steps:\n",
    "1. Load and test the the trained model interface.\n",
    "2. Create and endpoint in AI Platform Prediction if it doesn't exists.\n",
    "3. Deploy the model to the endpoint.\n",
    "4. Test the endpoint.\n"
   ]
  },
  {
   "cell_type": "markdown",
   "id": "pleasant-escape",
   "metadata": {},
   "source": [
    "## Setup"
   ]
  },
  {
   "cell_type": "code",
   "execution_count": null,
   "id": "indie-negotiation",
   "metadata": {},
   "outputs": [],
   "source": [
    "import os\n",
    "import logging\n",
    "\n",
    "logging.getLogger().setLevel(logging.INFO)"
   ]
  },
  {
   "cell_type": "code",
   "execution_count": null,
   "id": "applicable-procurement",
   "metadata": {},
   "outputs": [],
   "source": [
    "PROJECT = 'ksalama-cloudml'\n",
    "REGION = 'us-central1'\n",
    "MODEL_DISPLAY_NAME = 'chicago_taxi_tips_classifier_v1'\n",
    "ENDPOINT_DISPLAY_NAME = 'chicago_taxi_tips_classification'\n",
    "\n",
    "CICD_IMAGE_NAME = 'cicd:latest'\n",
    "CICD_IMAGE_URI = f\"gcr.io/{PROJECT}/{CICD_IMAGE_NAME}\"\n",
    "\n",
    "REPO_URL = \"https://github.com/ksalama/ucaip-labs.git\"\n",
    "BRANCH = \"mb-sdk\""
   ]
  },
  {
   "cell_type": "markdown",
   "id": "textile-fraud",
   "metadata": {},
   "source": [
    "## Build CI/CD  Container Image for Cloud Build\n",
    "\n",
    "This is the runtime environment where the steps of testing and deploying the model will be executed."
   ]
  },
  {
   "cell_type": "code",
   "execution_count": null,
   "id": "chronic-template",
   "metadata": {},
   "outputs": [],
   "source": [
    "!echo $CICD_IMAGE_URI"
   ]
  },
  {
   "cell_type": "code",
   "execution_count": null,
   "id": "ethical-utilization",
   "metadata": {},
   "outputs": [],
   "source": [
    "!gcloud builds submit --tag $CICD_IMAGE_URI build/. --timeout=15m"
   ]
  },
  {
   "cell_type": "markdown",
   "id": "through-cookie",
   "metadata": {},
   "source": [
    "## 1. Run CI/CD Steps locally"
   ]
  },
  {
   "cell_type": "code",
   "execution_count": null,
   "id": "invisible-drain",
   "metadata": {},
   "outputs": [],
   "source": [
    "os.environ['PROJECT'] = PROJECT\n",
    "os.environ['REGION'] = REGION\n",
    "os.environ['MODEL_DISPLAY_NAME'] = MODEL_DISPLAY_NAME\n",
    "os.environ['ENDPOINT_DISPLAY_NAME'] = ENDPOINT_DISPLAY_NAME"
   ]
  },
  {
   "cell_type": "markdown",
   "id": "downtown-bangkok",
   "metadata": {},
   "source": [
    "### Run the model artifact testing"
   ]
  },
  {
   "cell_type": "code",
   "execution_count": null,
   "id": "federal-kennedy",
   "metadata": {},
   "outputs": [],
   "source": [
    "!py.test src/tests/model_deployment_tests.py::test_model_artifact -s"
   ]
  },
  {
   "cell_type": "markdown",
   "id": "subject-change",
   "metadata": {},
   "source": [
    "### Run create endpoint"
   ]
  },
  {
   "cell_type": "code",
   "execution_count": null,
   "id": "premier-dealer",
   "metadata": {},
   "outputs": [],
   "source": [
    "!python build/utils.py \\\n",
    "    --mode=create-endpoint\\\n",
    "    --project={PROJECT}\\\n",
    "    --region={REGION}\\\n",
    "    --endpoint-display-name={ENDPOINT_DISPLAY_NAME}"
   ]
  },
  {
   "cell_type": "markdown",
   "id": "frequent-family",
   "metadata": {},
   "source": [
    "### Run deploy model"
   ]
  },
  {
   "cell_type": "code",
   "execution_count": null,
   "id": "earned-union",
   "metadata": {},
   "outputs": [],
   "source": [
    "!python build/utils.py \\\n",
    "    --mode=deploy-model\\\n",
    "    --project={PROJECT}\\\n",
    "    --region={REGION}\\\n",
    "    --endpoint-display-name={ENDPOINT_DISPLAY_NAME}\\\n",
    "    --model-display-name={MODEL_DISPLAY_NAME}"
   ]
  },
  {
   "cell_type": "markdown",
   "id": "optical-fever",
   "metadata": {},
   "source": [
    "### Run model endpoint testing"
   ]
  },
  {
   "cell_type": "code",
   "execution_count": null,
   "id": "detected-glasgow",
   "metadata": {},
   "outputs": [],
   "source": [
    "!py.test src/tests/model_deployment_tests.py::test_model_endpoint"
   ]
  },
  {
   "cell_type": "markdown",
   "id": "protecting-veteran",
   "metadata": {},
   "source": [
    "## 2. Execute the Model Deployment CI/CD rountine in Cloud Build"
   ]
  },
  {
   "cell_type": "code",
   "execution_count": null,
   "id": "fatty-hierarchy",
   "metadata": {},
   "outputs": [],
   "source": [
    "SUBSTITUTIONS=f\"\"\"\\\n",
    "_REPO_URL='{REPO_URL}',\\\n",
    "_BRANCH={BRANCH},\\\n",
    "_CICD_IMAGE_URI={CICD_IMAGE_URI},\\\n",
    "_PROJECT={PROJECT},\\\n",
    "_REGION={REGION},\\\n",
    "_MODEL_DISPLAY_NAME={MODEL_DISPLAY_NAME},\\\n",
    "_ENDPOINT_DISPLAY_NAME={ENDPOINT_DISPLAY_NAME},\\\n",
    "\"\"\"\n",
    "\n",
    "!echo $SUBSTITUTIONS"
   ]
  },
  {
   "cell_type": "code",
   "execution_count": null,
   "id": "chicken-phase",
   "metadata": {},
   "outputs": [],
   "source": [
    "!gcloud builds submit --no-source --config build/model-deployment.yaml --substitutions {SUBSTITUTIONS} --timeout=30m"
   ]
  },
  {
   "cell_type": "code",
   "execution_count": null,
   "id": "invalid-investor",
   "metadata": {},
   "outputs": [],
   "source": []
  },
  {
   "cell_type": "code",
   "execution_count": null,
   "id": "actual-radius",
   "metadata": {},
   "outputs": [],
   "source": []
  }
 ],
 "metadata": {
  "environment": {
   "name": "tf2-gpu.2-4.m65",
   "type": "gcloud",
   "uri": "gcr.io/deeplearning-platform-release/tf2-gpu.2-4:m65"
  },
  "kernelspec": {
   "display_name": "Python 3",
   "language": "python",
   "name": "python3"
  },
  "language_info": {
   "codemirror_mode": {
    "name": "ipython",
    "version": 3
   },
   "file_extension": ".py",
   "mimetype": "text/x-python",
   "name": "python",
   "nbconvert_exporter": "python",
   "pygments_lexer": "ipython3",
   "version": "3.7.10"
  }
 },
 "nbformat": 4,
 "nbformat_minor": 5
}
