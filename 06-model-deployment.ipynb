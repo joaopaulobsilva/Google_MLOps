{
 "cells": [
  {
   "cell_type": "markdown",
   "id": "brazilian-gates",
   "metadata": {},
   "source": [
    "# 06 - Model Deployment\n",
    "\n",
    "The purpose of this notebook is to execute a CI/CD routine to test and deploy the trained model to AI Platform Prediction, using Cloud Build.\n",
    "The CI/CD rountine is defined in the [model-deployment.yaml](model-deployment.yaml) file, and consists of the following steps:\n",
    "1. Load and test the the trained model interface.\n",
    "2. Create and endpoint in AI Platform Prediction if it doesn't exists.\n",
    "3. Deploy the model to the endpoint.\n",
    "4. Test the endpoint.\n"
   ]
  },
  {
   "cell_type": "markdown",
   "id": "regulated-young",
   "metadata": {},
   "source": [
    "## Setup"
   ]
  },
  {
   "cell_type": "code",
   "execution_count": null,
   "id": "executed-combine",
   "metadata": {},
   "outputs": [],
   "source": [
    "import os\n",
    "import logging\n",
    "\n",
    "logging.getLogger().setLevel(logging.INFO)"
   ]
  },
  {
   "cell_type": "code",
   "execution_count": null,
   "id": "municipal-madness",
   "metadata": {},
   "outputs": [],
   "source": [
    "PROJECT = 'ksalama-cloudml'\n",
    "REGION = 'us-central1'\n",
    "\n",
    "VERSION = 'v01'\n",
    "DATASET_DISPLAY_NAME = 'chicago_taxi_tips'\n",
    "MODEL_DISPLAY_NAME = f'{DATASET_DISPLAY_NAME}_classifier_{VERSION}'\n",
    "ENDPOINT_DISPLAY_NAME = f'{DATASET_DISPLAY_NAME}_classifier\n",
    "\n",
    "CICD_IMAGE_NAME = 'cicd:latest'\n",
    "CICD_IMAGE_URI = f\"gcr.io/{PROJECT}/{CICD_IMAGE_NAME}\"\n",
    "\n",
    "REPO_URL = \"https://github.com/ksalama/ucaip-labs.git\"\n",
    "BRANCH = \"mb-sdk\""
   ]
  },
  {
   "cell_type": "markdown",
   "id": "structural-fitness",
   "metadata": {},
   "source": [
    "## Build CI/CD  Container Image for Cloud Build\n",
    "\n",
    "This is the runtime environment where the steps of testing and deploying the model will be executed."
   ]
  },
  {
   "cell_type": "code",
   "execution_count": null,
   "id": "australian-print",
   "metadata": {},
   "outputs": [],
   "source": [
    "!echo $CICD_IMAGE_URI"
   ]
  },
  {
   "cell_type": "code",
   "execution_count": null,
   "id": "aggressive-ethernet",
   "metadata": {},
   "outputs": [],
   "source": [
    "!gcloud builds submit --tag $CICD_IMAGE_URI build/. --timeout=15m"
   ]
  },
  {
   "cell_type": "markdown",
   "id": "printable-hypothetical",
   "metadata": {},
   "source": [
    "## 1. Run CI/CD Steps locally"
   ]
  },
  {
   "cell_type": "code",
   "execution_count": null,
   "id": "thousand-helmet",
   "metadata": {},
   "outputs": [],
   "source": [
    "os.environ['PROJECT'] = PROJECT\n",
    "os.environ['REGION'] = REGION\n",
    "os.environ['MODEL_DISPLAY_NAME'] = MODEL_DISPLAY_NAME\n",
    "os.environ['ENDPOINT_DISPLAY_NAME'] = ENDPOINT_DISPLAY_NAME"
   ]
  },
  {
   "cell_type": "markdown",
   "id": "geological-domain",
   "metadata": {},
   "source": [
    "### Run the model artifact testing"
   ]
  },
  {
   "cell_type": "code",
   "execution_count": null,
   "id": "humanitarian-warrant",
   "metadata": {},
   "outputs": [],
   "source": [
    "!py.test src/tests/model_deployment_tests.py::test_model_artifact -s"
   ]
  },
  {
   "cell_type": "markdown",
   "id": "amazing-treat",
   "metadata": {},
   "source": [
    "### Run create endpoint"
   ]
  },
  {
   "cell_type": "code",
   "execution_count": null,
   "id": "nasty-prescription",
   "metadata": {},
   "outputs": [],
   "source": [
    "!python build/utils.py \\\n",
    "    --mode=create-endpoint\\\n",
    "    --project={PROJECT}\\\n",
    "    --region={REGION}\\\n",
    "    --endpoint-display-name={ENDPOINT_DISPLAY_NAME}"
   ]
  },
  {
   "cell_type": "markdown",
   "id": "technological-zimbabwe",
   "metadata": {},
   "source": [
    "### Run deploy model"
   ]
  },
  {
   "cell_type": "code",
   "execution_count": null,
   "id": "strong-respect",
   "metadata": {},
   "outputs": [],
   "source": [
    "!python build/utils.py \\\n",
    "    --mode=deploy-model\\\n",
    "    --project={PROJECT}\\\n",
    "    --region={REGION}\\\n",
    "    --endpoint-display-name={ENDPOINT_DISPLAY_NAME}\\\n",
    "    --model-display-name={MODEL_DISPLAY_NAME}"
   ]
  },
  {
   "cell_type": "markdown",
   "id": "canadian-editing",
   "metadata": {},
   "source": [
    "### Run model endpoint testing"
   ]
  },
  {
   "cell_type": "code",
   "execution_count": null,
   "id": "accepting-responsibility",
   "metadata": {},
   "outputs": [],
   "source": [
    "!py.test src/tests/model_deployment_tests.py::test_model_endpoint"
   ]
  },
  {
   "cell_type": "markdown",
   "id": "working-weekend",
   "metadata": {},
   "source": [
    "## 2. Execute the Model Deployment CI/CD routine in Cloud Build"
   ]
  },
  {
   "cell_type": "code",
   "execution_count": null,
   "id": "stunning-klein",
   "metadata": {},
   "outputs": [],
   "source": [
    "SUBSTITUTIONS=f\"\"\"\\\n",
    "_REPO_URL='{REPO_URL}',\\\n",
    "_BRANCH={BRANCH},\\\n",
    "_CICD_IMAGE_URI={CICD_IMAGE_URI},\\\n",
    "_PROJECT={PROJECT},\\\n",
    "_REGION={REGION},\\\n",
    "_MODEL_DISPLAY_NAME={MODEL_DISPLAY_NAME},\\\n",
    "_ENDPOINT_DISPLAY_NAME={ENDPOINT_DISPLAY_NAME},\\\n",
    "\"\"\"\n",
    "\n",
    "!echo $SUBSTITUTIONS"
   ]
  },
  {
   "cell_type": "code",
   "execution_count": null,
   "id": "magnetic-facility",
   "metadata": {},
   "outputs": [],
   "source": [
    "!gcloud builds submit --no-source --config build/model-deployment.yaml --substitutions {SUBSTITUTIONS} --timeout=30m"
   ]
  },
  {
   "cell_type": "code",
   "execution_count": null,
   "id": "ultimate-playing",
   "metadata": {},
   "outputs": [],
   "source": []
  },
  {
   "cell_type": "code",
   "execution_count": null,
   "id": "domestic-sydney",
   "metadata": {},
   "outputs": [],
   "source": []
  }
 ],
 "metadata": {
  "environment": {
   "name": "tf2-gpu.2-4.m65",
   "type": "gcloud",
   "uri": "gcr.io/deeplearning-platform-release/tf2-gpu.2-4:m65"
  },
  "kernelspec": {
   "display_name": "Python 3",
   "language": "python",
   "name": "python3"
  },
  "language_info": {
   "codemirror_mode": {
    "name": "ipython",
    "version": 3
   },
   "file_extension": ".py",
   "mimetype": "text/x-python",
   "name": "python",
   "nbconvert_exporter": "python",
   "pygments_lexer": "ipython3",
   "version": "3.7.10"
  }
 },
 "nbformat": 4,
 "nbformat_minor": 5
}
