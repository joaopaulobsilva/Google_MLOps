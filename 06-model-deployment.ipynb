{
 "cells": [
  {
   "cell_type": "markdown",
   "id": "30fd07ca",
   "metadata": {},
   "source": [
    "# 06 - Model Deployment\n",
    "\n",
    "The purpose of this notebook is to execute a CI/CD routine to test and deploy the trained model to AI Platform Prediction, using Cloud Build.\n",
    "The CI/CD rountine is defined in the [model-deployment.yaml](model-deployment.yaml) file, and consists of the following steps:\n",
    "1. Load and test the the trained model interface.\n",
    "2. Create and endpoint in AI Platform Prediction if it doesn't exists.\n",
    "3. Deploy the model to the endpoint.\n",
    "4. Test the endpoint.\n"
   ]
  },
  {
   "cell_type": "markdown",
   "id": "f54f2801",
   "metadata": {},
   "source": [
    "## Installation\n",
    "\n",
    "Install the latest version of Vertex SDK."
   ]
  },
  {
   "cell_type": "code",
   "execution_count": null,
   "id": "06902769",
   "metadata": {},
   "outputs": [],
   "source": [
    "import sys\n",
    "import os\n",
    "\n",
    "\n",
    "# Google Cloud Notebook\n",
    "if os.path.exists(\"/opt/deeplearning/metadata/env_version\"):\n",
    "    USER_FLAG = '--user'\n",
    "else:\n",
    "    USER_FLAG = ''\n",
    "\n",
    "! pip3 install --upgrade google-cloud-aiplatform $USER_FLAG"
   ]
  },
  {
   "cell_type": "markdown",
   "id": "a5bcbeae",
   "metadata": {},
   "source": [
    "Install the latest GA version of *google-cloud-storage* library as well."
   ]
  },
  {
   "cell_type": "code",
   "execution_count": null,
   "id": "c976a102",
   "metadata": {},
   "outputs": [],
   "source": [
    "! pip3 install -U google-cloud-storage $USER_FLAG"
   ]
  },
  {
   "cell_type": "markdown",
   "id": "1516e840",
   "metadata": {},
   "source": [
    "Install deep learning dependencies"
   ]
  },
  {
   "cell_type": "code",
   "execution_count": null,
   "id": "1adb7664",
   "metadata": {},
   "outputs": [],
   "source": [
    "! pip3 install -U tfx==0.30.0 $USER_FLAG\n",
    "! pip3 install -r requirements.txt $USER_FLAG"
   ]
  },
  {
   "cell_type": "markdown",
   "id": "cdaf80c5",
   "metadata": {},
   "source": [
    "### Restart the kernel\n",
    "\n",
    "Once you've installed the Vertex SDK and Google *cloud-storage*, you need to restart the notebook kernel so it can find the packages."
   ]
  },
  {
   "cell_type": "code",
   "execution_count": null,
   "id": "44eeb93d",
   "metadata": {},
   "outputs": [],
   "source": [
    "if not os.getenv(\"IS_TESTING\"):\n",
    "    # Automatically restart kernel after installs\n",
    "    import IPython\n",
    "    app = IPython.Application.instance()\n",
    "    app.kernel.do_shutdown(True)"
   ]
  },
  {
   "cell_type": "markdown",
   "id": "bdba9e03",
   "metadata": {},
   "source": [
    "## Setup"
   ]
  },
  {
   "cell_type": "code",
   "execution_count": null,
   "id": "c5d9529d",
   "metadata": {},
   "outputs": [],
   "source": [
    "import os\n",
    "import logging\n",
    "\n",
    "logging.getLogger().setLevel(logging.INFO)"
   ]
  },
  {
   "cell_type": "markdown",
   "id": "bd83ff70",
   "metadata": {},
   "source": [
    "### Setup your Google Cloud project\n",
    "\n",
    "Enter your project ID in the cell below. Then run the  cell to make sure the\n",
    "Cloud SDK uses the right project for all the commands in this notebook.\n",
    "\n",
    "**Note**: Jupyter runs lines prefixed with `!` as shell commands, and it interpolates Python variables prefixed with `$` into these commands."
   ]
  },
  {
   "cell_type": "code",
   "execution_count": null,
   "id": "8a197c76",
   "metadata": {},
   "outputs": [],
   "source": [
    "PROJECT_ID = \"[your-project-id]\"  #@param {type:\"string\"}"
   ]
  },
  {
   "cell_type": "code",
   "execution_count": null,
   "id": "a03ed3e7",
   "metadata": {},
   "outputs": [],
   "source": [
    "if PROJECT_ID == \"\" or PROJECT_ID is None or PROJECT_ID == \"[your-project-id]\":\n",
    "    # Get your GCP project id from gcloud\n",
    "    shell_output = !gcloud config list --format 'value(core.project)' 2>/dev/null\n",
    "    PROJECT_ID = shell_output[0]\n",
    "    print(\"Project ID:\", PROJECT_ID)\n",
    "    \n",
    "! gcloud config set project $PROJECT_ID"
   ]
  },
  {
   "cell_type": "markdown",
   "id": "26c295d0",
   "metadata": {},
   "source": [
    "#### Region\n",
    "\n",
    "You can also change the `REGION` variable, which is used for operations\n",
    "throughout the rest of this notebook.  Below are regions supported for Vertex. We recommend that you choose the region closest to you.\n",
    "\n",
    "- Americas: `us-central1`\n",
    "- Europe: `europe-west4`\n",
    "- Asia Pacific: `asia-east1`\n",
    "\n",
    "You may not use a multi-regional bucket for training with Vertex. Not all regions provide support for all Vertex services. For the latest support per region, see the [Vertex locations documentation](https://cloud.google.com/ai-platform-unified/docs/general/locations)"
   ]
  },
  {
   "cell_type": "code",
   "execution_count": null,
   "id": "3e7b2e0b",
   "metadata": {},
   "outputs": [],
   "source": [
    "REGION = 'us-central1'  #@param {type: \"string\"}"
   ]
  },
  {
   "cell_type": "code",
   "execution_count": null,
   "id": "1f871cb3",
   "metadata": {},
   "outputs": [],
   "source": [
    "from datetime import datetime\n",
    "\n",
    "TIMESTAMP = datetime.now().strftime(\"%Y%m%d%H%M%S\")"
   ]
  },
  {
   "cell_type": "code",
   "execution_count": null,
   "id": "f030b0a0",
   "metadata": {},
   "outputs": [],
   "source": [
    "VERSION = 'v01'\n",
    "DATASET_DISPLAY_NAME = 'chicago_taxi_tips'\n",
    "MODEL_DISPLAY_NAME = f'{DATASET_DISPLAY_NAME}_classifier_{VERSION}'\n",
    "ENDPOINT_DISPLAY_NAME = f'{DATASET_DISPLAY_NAME}_classifier'\n",
    "\n",
    "CICD_IMAGE_NAME = 'cicd:latest'\n",
    "CICD_IMAGE_URI = f\"gcr.io/{PROJECT_ID}/{CICD_IMAGE_NAME}\"\n",
    "\n",
    "REPO_URL = \"https://github.com/ksalama/ucaip-labs.git\"\n",
    "BRANCH = \"main\""
   ]
  },
  {
   "cell_type": "markdown",
   "id": "9bc41072",
   "metadata": {},
   "source": [
    "## Build CI/CD  Container Image for Cloud Build\n",
    "\n",
    "This is the runtime environment where the steps of testing and deploying the model will be executed."
   ]
  },
  {
   "cell_type": "code",
   "execution_count": null,
   "id": "9e8ec798",
   "metadata": {},
   "outputs": [],
   "source": [
    "!echo $CICD_IMAGE_URI"
   ]
  },
  {
   "cell_type": "code",
   "execution_count": null,
   "id": "6d4e1df4",
   "metadata": {},
   "outputs": [],
   "source": [
    "!gcloud builds submit --tag $CICD_IMAGE_URI build/. --timeout=15m"
   ]
  },
  {
   "cell_type": "markdown",
   "id": "d539a25f",
   "metadata": {},
   "source": [
    "## 1. Run CI/CD Steps locally"
   ]
  },
  {
   "cell_type": "code",
   "execution_count": null,
   "id": "c506db92",
   "metadata": {},
   "outputs": [],
   "source": [
    "os.environ['PROJECT'] = PROJECT_ID\n",
    "os.environ['REGION'] = REGION\n",
    "os.environ['MODEL_DISPLAY_NAME'] = MODEL_DISPLAY_NAME\n",
    "os.environ['ENDPOINT_DISPLAY_NAME'] = ENDPOINT_DISPLAY_NAME"
   ]
  },
  {
   "cell_type": "markdown",
   "id": "15dcdef2",
   "metadata": {},
   "source": [
    "### Run the model artifact testing"
   ]
  },
  {
   "cell_type": "code",
   "execution_count": null,
   "id": "9cc28f17",
   "metadata": {},
   "outputs": [],
   "source": [
    "!py.test src/tests/model_deployment_tests.py::test_model_artifact -s"
   ]
  },
  {
   "cell_type": "markdown",
   "id": "332da382",
   "metadata": {},
   "source": [
    "### Run create endpoint"
   ]
  },
  {
   "cell_type": "code",
   "execution_count": null,
   "id": "a86fa20a",
   "metadata": {},
   "outputs": [],
   "source": [
    "!python build/utils.py \\\n",
    "    --mode=create-endpoint\\\n",
    "    --project={PROJECT_ID}\\\n",
    "    --region={REGION}\\\n",
    "    --endpoint-display-name={ENDPOINT_DISPLAY_NAME}"
   ]
  },
  {
   "cell_type": "markdown",
   "id": "87a5307d",
   "metadata": {},
   "source": [
    "### Run deploy model"
   ]
  },
  {
   "cell_type": "code",
   "execution_count": null,
   "id": "c0351820",
   "metadata": {},
   "outputs": [],
   "source": [
    "!python build/utils.py \\\n",
    "    --mode=deploy-model\\\n",
    "    --project={PROJECT_ID}\\\n",
    "    --region={REGION}\\\n",
    "    --endpoint-display-name={ENDPOINT_DISPLAY_NAME}\\\n",
    "    --model-display-name={MODEL_DISPLAY_NAME}"
   ]
  },
  {
   "cell_type": "markdown",
   "id": "cc453906",
   "metadata": {},
   "source": [
    "### Run model endpoint testing"
   ]
  },
  {
   "cell_type": "code",
   "execution_count": null,
   "id": "c01050f3",
   "metadata": {},
   "outputs": [],
   "source": [
    "!py.test src/tests/model_deployment_tests.py::test_model_endpoint"
   ]
  },
  {
   "cell_type": "markdown",
   "id": "13876340",
   "metadata": {},
   "source": [
    "## 2. Execute the Model Deployment CI/CD routine in Cloud Build"
   ]
  },
  {
   "cell_type": "code",
   "execution_count": null,
   "id": "41550f51",
   "metadata": {},
   "outputs": [],
   "source": [
    "SUBSTITUTIONS=f\"\"\"\\\n",
    "_REPO_URL='{REPO_URL}',\\\n",
    "_BRANCH={BRANCH},\\\n",
    "_CICD_IMAGE_URI={CICD_IMAGE_URI},\\\n",
    "_PROJECT={PROJECT_ID},\\\n",
    "_REGION={REGION},\\\n",
    "_MODEL_DISPLAY_NAME={MODEL_DISPLAY_NAME},\\\n",
    "_ENDPOINT_DISPLAY_NAME={ENDPOINT_DISPLAY_NAME},\\\n",
    "\"\"\"\n",
    "\n",
    "!echo $SUBSTITUTIONS"
   ]
  },
  {
   "cell_type": "code",
   "execution_count": null,
   "id": "ad18b779",
   "metadata": {},
   "outputs": [],
   "source": [
    "!gcloud builds submit --no-source --config build/model-deployment.yaml --substitutions {SUBSTITUTIONS} --timeout=30m"
   ]
  },
  {
   "cell_type": "code",
   "execution_count": null,
   "id": "1cf4e5f1",
   "metadata": {},
   "outputs": [],
   "source": []
  },
  {
   "cell_type": "code",
   "execution_count": null,
   "id": "baa56b42",
   "metadata": {},
   "outputs": [],
   "source": []
  }
 ],
 "metadata": {
  "environment": {
   "name": "common-cu110.m71",
   "type": "gcloud",
   "uri": "gcr.io/deeplearning-platform-release/base-cu110:m71"
  },
  "kernelspec": {
   "display_name": "Python 3",
   "language": "python",
   "name": "python3"
  },
  "language_info": {
   "codemirror_mode": {
    "name": "ipython",
    "version": 3
   },
   "file_extension": ".py",
   "mimetype": "text/x-python",
   "name": "python",
   "nbconvert_exporter": "python",
   "pygments_lexer": "ipython3",
   "version": "3.7.10"
  }
 },
 "nbformat": 4,
 "nbformat_minor": 5
}
